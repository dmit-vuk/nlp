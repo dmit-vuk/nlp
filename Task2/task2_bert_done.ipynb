{
 "cells": [
  {
   "cell_type": "markdown",
   "metadata": {},
   "source": [
    "# Практическое задание 3 \n",
    "\n",
    "# Классификация с использованием BERT  и Transfer learning\n",
    "\n",
    "## курс \"Математические методы анализа текстов\"\n",
    "\n",
    "\n",
    "### ФИО: <впишите>"
   ]
  },
  {
   "cell_type": "markdown",
   "metadata": {},
   "source": [
    "## Введение\n",
    "\n",
    "\n",
    "В этом задании вы будете определять категории товара по данным из чеков, предоставленным в соревновании [Data Fusion Context](https://boosters.pro/championship/data_fusion/data).\n",
    "\n",
    "\n",
    "Для этого задания вам понадобятся следующие библиотеки:\n",
    " - [Pytorch](https://pytorch.org/).\n",
    " - [Transformers](https://github.com/huggingface/transformers).\n",
    " - [Tokenizers](https://github.com/huggingface/tokenizers).\n",
    "\n",
    "Данные лежат в архиве data.zip, в котором лежит файл `data.csv`, содержащий тексты и соответствующие им категории товаров. Все объекты поделены между train, test, val и unsupervised. Для unsupervised объектов категории товаров недоступны. \n",
    "\n",
    "Скачать данные можно здесь: [ссылка на google диск](https://drive.google.com/file/d/1AHs7qJYg2tc8zblGlT0Dpe50e6RW-gAW/view?usp=sharing)"
   ]
  },
  {
   "cell_type": "code",
   "execution_count": 110,
   "metadata": {},
   "outputs": [],
   "source": [
    "import tests as tests"
   ]
  },
  {
   "cell_type": "markdown",
   "metadata": {},
   "source": [
    "## Часть 1. Подготовка данных (2 балла)\n",
    "\n",
    "Классические методы NLP (например, как мы делали в первом и втором домашнем задании) преобразуют тексты в списки индексов следующим образом:\n",
    "1. \"Очистка текста\" от плохих символов, приводим (или не приводим) текст к нижнему регистру.\n",
    "2. Текст делится по пробелам на слова.\n",
    "3. По полученной коллекции текстов строится словарь вида \"слово -> индекс\", редкие слова выбрасываются, стопслова иногда тоже\n",
    "4. Побитый на слова текст превращается в список индексов с помощью этого словаря.\n",
    "\n",
    "Для трансформеров схема выглядит немного по-другому — используются более продвинутые методы токенизации типа `wordpiece, bpe, sentencepiece`. Основное концептуальное отличие — текст делится не только на слова по пробелам, но и сами слова делятся на \"подслова\" (читай subwords). Это верно для BPE и wordpiece, а sentencepiece вообще не учитывает пробелы. Более подробно ознакомиться с этими методами токенизации можно в наших лекциях.\n",
    "\n",
    "В данном задании предлагается использовать wordpiece токенизатор, который использовали в оригинальной статье про BERT. Построить его можно с помощью библиотеки `tokenizers`:\n",
    "1. Считайте данные с помощью `pandas`\n",
    "2. Используя метод `tokenizers.BertWordPieceTokenizer.train` и список сырых текстов постройте токенизатор. Используйте нижний регистр (lowercase), чистый текст (clean_text), без акцентов (strip_accents), размера словаря 30000 (vocab_size).\n",
    "3. Сохраните построенный токенизатор (метод `tokenizer.save_model`) и создайте объект класса `transformers.BertTokenizerFast`, который работает быстрее стандартной реализации, но не позволяет её обучать.\n",
    "\n",
    "**Важно:** нужно при обучении c помощью параметра `special_tokens` завести индексы для токенов `[PAD], [UNK], [CLS], [SEP], [MASK]`, которые понадобятся нам дальше для обучения и использования модели."
   ]
  },
  {
   "cell_type": "code",
   "execution_count": 2,
   "metadata": {},
   "outputs": [],
   "source": [
    "import pandas as pd\n",
    "\n",
    "data = pd.read_csv('task3_data.csv')"
   ]
  },
  {
   "cell_type": "code",
   "execution_count": 3,
   "metadata": {},
   "outputs": [
    {
     "data": {
      "text/html": [
       "<div>\n",
       "<style scoped>\n",
       "    .dataframe tbody tr th:only-of-type {\n",
       "        vertical-align: middle;\n",
       "    }\n",
       "\n",
       "    .dataframe tbody tr th {\n",
       "        vertical-align: top;\n",
       "    }\n",
       "\n",
       "    .dataframe thead th {\n",
       "        text-align: right;\n",
       "    }\n",
       "</style>\n",
       "<table border=\"1\" class=\"dataframe\">\n",
       "  <thead>\n",
       "    <tr style=\"text-align: right;\">\n",
       "      <th></th>\n",
       "      <th>text</th>\n",
       "      <th>label</th>\n",
       "      <th>split</th>\n",
       "    </tr>\n",
       "  </thead>\n",
       "  <tbody>\n",
       "    <tr>\n",
       "      <th>0</th>\n",
       "      <td>Флуконазол капс 150мг №1 Вертекс</td>\n",
       "      <td>-1</td>\n",
       "      <td>unsupervised</td>\n",
       "    </tr>\n",
       "    <tr>\n",
       "      <th>1</th>\n",
       "      <td>Борщ Станичный с тушенкой, 103 ккал (завод, з/у)</td>\n",
       "      <td>-1</td>\n",
       "      <td>unsupervised</td>\n",
       "    </tr>\n",
       "    <tr>\n",
       "      <th>2</th>\n",
       "      <td>Филе Горизонт (филе птицы), 218 ккал</td>\n",
       "      <td>-1</td>\n",
       "      <td>unsupervised</td>\n",
       "    </tr>\n",
       "    <tr>\n",
       "      <th>3</th>\n",
       "      <td>3  Бумага Упак 1/Прочи/В асс</td>\n",
       "      <td>-1</td>\n",
       "      <td>unsupervised</td>\n",
       "    </tr>\n",
       "    <tr>\n",
       "      <th>4</th>\n",
       "      <td>4  Бумага Упак 1/Прочи/В асс</td>\n",
       "      <td>-1</td>\n",
       "      <td>unsupervised</td>\n",
       "    </tr>\n",
       "  </tbody>\n",
       "</table>\n",
       "</div>"
      ],
      "text/plain": [
       "                                               text  label         split\n",
       "0                  Флуконазол капс 150мг №1 Вертекс     -1  unsupervised\n",
       "1  Борщ Станичный с тушенкой, 103 ккал (завод, з/у)     -1  unsupervised\n",
       "2              Филе Горизонт (филе птицы), 218 ккал     -1  unsupervised\n",
       "3                      3  Бумага Упак 1/Прочи/В асс     -1  unsupervised\n",
       "4                      4  Бумага Упак 1/Прочи/В асс     -1  unsupervised"
      ]
     },
     "execution_count": 3,
     "metadata": {},
     "output_type": "execute_result"
    }
   ],
   "source": [
    "data.head()"
   ]
  },
  {
   "cell_type": "code",
   "execution_count": 4,
   "metadata": {},
   "outputs": [
    {
     "data": {
      "text/plain": [
       "array([-1, 48,  0, 38, 41, 88, 22, 61, 62, 78, 55, 51, 60, 53, 95, 57, 27,\n",
       "       25, 47, 54, 24, 75,  4, 59, 94, 58, 40, 46, 87, 20, 83, 33, 39, 56,\n",
       "       86, 45, 52, 80, 85, 34, 50, 70,  2,  1,  7, 30, 35,  9, 43, 28,  3,\n",
       "       74, 31, 32, 23, 49, 79, 42, 37, 16, 11, 81, 71, 44, 91, 76, 17, 93,\n",
       "       26,  8,  6, 73, 92, 21, 84, 12, 77, 63, 72, 65, 13,  5, 68, 14, 15,\n",
       "       36, 64, 82, 18, 10, 69, 19, 89, 90, 66, 67, 29])"
      ]
     },
     "execution_count": 4,
     "metadata": {},
     "output_type": "execute_result"
    }
   ],
   "source": [
    "data.label.unique()"
   ]
  },
  {
   "cell_type": "code",
   "execution_count": 5,
   "metadata": {},
   "outputs": [
    {
     "data": {
      "text/plain": [
       "array(['unsupervised', 'train', 'val', 'test'], dtype=object)"
      ]
     },
     "execution_count": 5,
     "metadata": {},
     "output_type": "execute_result"
    }
   ],
   "source": [
    "data.split.unique()"
   ]
  },
  {
   "cell_type": "code",
   "execution_count": 6,
   "metadata": {},
   "outputs": [],
   "source": [
    "from tokenizers import BertWordPieceTokenizer\n",
    "from transformers import BertTokenizerFast\n",
    "\n",
    "class WordpieceTokenizer:\n",
    "\n",
    "    def __init__(\n",
    "            self, \n",
    "            vocab_path, \n",
    "            strip_accents=True, \n",
    "            clean_text=True, \n",
    "            lowercase=True\n",
    "    ):\n",
    "        \"\"\"\n",
    "            vocab_path: путь к словарю\n",
    "            strip_accents: очистка текста от акцентов\n",
    "            clean_text: просто чистка текста от непонятных символов\n",
    "            lowercase: приведение текста к нижнему регистру\n",
    "            \n",
    "            Подгружает токенизатор с помощью BertTokenizerFast.\n",
    "        \"\"\"\n",
    "        ###########################\n",
    "        ### ╰( ͡° ͜ʖ ͡° )つ──☆*:・ﾟ\n",
    "        ###########################\n",
    "        self._tokenizer = BertTokenizerFast(\n",
    "            vocab_path,\n",
    "            strip_accents=strip_accents,\n",
    "            clean_text=clean_text,\n",
    "            do_lower_case=lowercase,\n",
    "        )\n",
    "\n",
    "    @classmethod\n",
    "    def from_corpus(\n",
    "            cls,\n",
    "            corpus,\n",
    "            corpus_save_path,\n",
    "            tokenizer_save_path,\n",
    "            tokenizer_name,\n",
    "            vocab_size=30000,\n",
    "            min_frequency=2,\n",
    "            strip_accents=True,\n",
    "            clean_text=True,\n",
    "            lowercase=True\n",
    "    ):\n",
    "        \"\"\"\n",
    "            corpus: список текстов\n",
    "            corpus_save_path: временный путь для сохранения текстов в текстовом файле\n",
    "            tokenizer_save_path: путь для сохранения файлов токенизатора\n",
    "            tokenizer_name: название токенизатора, влияет на названия файлов токенизатора\n",
    "            vocab_size: размер словаря\n",
    "            min_frequency: минимальная частота элемента в словаре\n",
    "            strip_accents: очистка текста от акцентов\n",
    "            clean_text: просто чистка текста от непонятных символов\n",
    "            lowercase: приведение текста к нижнему регистру\n",
    "            \n",
    "            С помощью списка сырых текстов формирует токенизатор\n",
    "        \"\"\"\n",
    "        ###########################\n",
    "        ### ╰( ͡° ͜ʖ ͡° )つ──☆*:・ﾟ\n",
    "        ###########################\n",
    "        with open(corpus_save_path, 'w', encoding='utf-8') as f:\n",
    "            for text in corpus:\n",
    "                f.write(f\"{text}\\n\")\n",
    "\n",
    "        tokenizer = BertWordPieceTokenizer(\n",
    "            clean_text=clean_text,\n",
    "            strip_accents=strip_accents,\n",
    "            lowercase=lowercase\n",
    "        )\n",
    "\n",
    "        tokenizer.train(\n",
    "            files=[corpus_save_path],\n",
    "            vocab_size=vocab_size,\n",
    "            min_frequency=min_frequency,\n",
    "            special_tokens=[\"[PAD]\", \"[UNK]\", \"[CLS]\", \"[SEP]\", \"[MASK]\"]\n",
    "        )\n",
    "\n",
    "        tokenizer.save_model(tokenizer_save_path, tokenizer_name)\n",
    "        vocab_path = tokenizer_save_path + tokenizer_name + \"-vocab.txt\"\n",
    "        return cls(\n",
    "            vocab_path,\n",
    "            strip_accents,\n",
    "            clean_text,\n",
    "            lowercase\n",
    "        )\n",
    "\n",
    "\n",
    "    def __call__(self, text):\n",
    "        \"\"\"\n",
    "            text: str. Сырой текст\n",
    "            \n",
    "            returns: list of ints. Список индексов\n",
    "            \n",
    "            C помощью метода .encode преобразует текст в индексы.\n",
    "        \"\"\"\n",
    "        return self._tokenizer.encode(text, add_special_tokens=False)\n",
    "\n",
    "    @property\n",
    "    def cls_token_id(self):\n",
    "        \"\"\"\n",
    "            returns: индекс CLS токена\n",
    "        \"\"\"\n",
    "        return self._tokenizer.cls_token_id\n",
    "\n",
    "    @property\n",
    "    def pad_token_id(self):\n",
    "        return self._tokenizer.pad_token_id\n",
    "\n",
    "    @property\n",
    "    def mask_token_id(self):\n",
    "        return self._tokenizer.mask_token_id\n",
    "\n",
    "    @property\n",
    "    def sep_token_id(self):\n",
    "        return self._tokenizer.sep_token_id\n",
    "\n",
    "    @property\n",
    "    def unk_token_id(self):\n",
    "        return self._tokenizer.unk_token_id\n",
    "\n",
    "    @property\n",
    "    def vocab_size(self):\n",
    "        \"\"\"\n",
    "            returns: размер словаря\n",
    "        \"\"\"\n",
    "        return self._tokenizer.vocab_size"
   ]
  },
  {
   "cell_type": "markdown",
   "metadata": {},
   "source": [
    "Создайте токенизатор:"
   ]
  },
  {
   "cell_type": "code",
   "execution_count": 7,
   "metadata": {},
   "outputs": [
    {
     "name": "stdout",
     "output_type": "stream",
     "text": [
      "\n",
      "\n",
      "\n",
      "Correct.\n"
     ]
    }
   ],
   "source": [
    "tokenizer = WordpieceTokenizer.from_corpus(\n",
    "###########################\n",
    "### ╰( ͡° ͜ʖ ͡° )つ──☆*:・ﾟ\n",
    "###########################\n",
    "    corpus=data[\"text\"].tolist(),\n",
    "    corpus_save_path='text_data.txt',\n",
    "    tokenizer_save_path='',\n",
    "    tokenizer_name=\"BertWordPieceTokenizer\",\n",
    ")\n",
    "\n",
    "tests.test_tokenizer(tokenizer)"
   ]
  },
  {
   "cell_type": "markdown",
   "metadata": {},
   "source": [
    "Нам доступно довольно большое количество неразмеченных данных, которое можно использовать для предобучения модели. Мы рассмотрим две задачи предобучения:\n",
    "1. **Masked Language Modeling** — задача из BERT. Выбираем 15% слов, из них 80% заменяем на токен [MASK], 10% меняем на другие случайные слова, 10% оставляем как есть. Эти 15% слов предсказываем моделью. Вспомним пример из оригинальной статьи:\n",
    "    * Исходный текст: `my dog is hairy`\n",
    "    * Выбираем случайным образом 15% токенов для задачи. Допустим, выбрали четвертый токен - `hairy`\n",
    "    * В 80% случаев заменяем токен на `[MASK]`: `my dog is [MASK]`\n",
    "    * В 10% случаев на другой случайный токен: `my dog is apple`\n",
    "    * В 10% случаев оставляем неизменным: `my dog is hairy`\n",
    "    \n",
    "    \n",
    "2. **Sentence Order Prediction** — задача из ALBERT. Делим текст на два сегмента, с вероятностью 50% меняет сегменты местами. Предсказываем, в правильном ли порядке находятся сегменты.\n",
    "    * Текст: `the man went to the store. he bought a gallon of milk`\n",
    "    * Токенизируем и делим его на два сегмента: `the man went to the store` и `he bought a gallon of milk`\n",
    "    * C вероятностью 50% меняем их местами: `[CLS] he bought a gallon of milk [SEP] the man went to the store`\n",
    "    * С вероятностью 50% оставляем на месте: `[CLS] the man went to the store [SEP] he bought a gallon of milk`\n",
    "    * \"Левому\" сегменту соответствует нулевой индекс сегмента, \"правому\" - индекс 1\n",
    "\n",
    "Большая часть логики предобучения реализуется при подготовке данных.\n",
    "\n",
    "Реализуйте **PretrainDataset**, который токенизирует поданные сырые тексты и умеет возвращать для текста с конкретным индексом случайный сегмент длины, не большей чем `maxlen`. Логика для задачи **SOP** должна быть реализована в `__getitem__`: выбранный сегмент надо поделить на два равных сегмента, подбросить монетку, и с 50% вероятностью поменять сегменты местами. Нужно также добавить `[CLS]` и `[SEP]` токены.\n",
    "\n",
    "**hint:** чтобы существенно ускорить обучение (не потеряв при этом в качестве), после токенизации отсортируйте датасет по длине текстов.\n",
    "**hint:** токенизация датасета для предобучения занимает существенное время (5 минут), поэтому во время отладки стоит сделать её один раз и сохранить результат на диск"
   ]
  },
  {
   "cell_type": "code",
   "execution_count": 8,
   "metadata": {},
   "outputs": [],
   "source": [
    "from tqdm import tqdm\n",
    "import numpy as np\n",
    "import random\n",
    "\n",
    "import torch\n",
    "from torch.utils.data import Dataset\n",
    "\n",
    "\n",
    "class PretrainDataset(Dataset):\n",
    "    \n",
    "    def __init__(\n",
    "            self, \n",
    "            corpus, \n",
    "            tokenizer, \n",
    "            minlen,\n",
    "            maxlen,\n",
    "            permute_prob=0.5, \n",
    "            verbose=False, \n",
    "            presort=False\n",
    "    ):\n",
    "        \"\"\"\n",
    "            corpus: list of strings. Список сырых текстов\n",
    "            tokenizer: токенизатор\n",
    "            minlen: минимально допустимая длина текста\n",
    "            permute_prob: вероятность, с которой два сегмента меняются местами (происходит swap)\n",
    "            maxlen: максимальная длина текста\n",
    "            verbose: вывод прогресса токенизации текстов с помощью tqdm\n",
    "            presort: отсортировать датасет по длинам токенизированных текстов (т.е. ds[0] выдает самый короткий текст)\n",
    "        \"\"\"\n",
    "        super().__init__()\n",
    "        ###########################\n",
    "        ### ╰( ͡° ͜ʖ ͡° )つ──☆*:・ﾟ\n",
    "        ###########################\n",
    "        self._tokenizer = tokenizer\n",
    "        self._minlen = minlen\n",
    "        self._maxlen = maxlen\n",
    "        self.permute_prob = permute_prob\n",
    "        self.verbose = verbose\n",
    "        self.presort = presort\n",
    "\n",
    "        self._corpus = []\n",
    "        for text in tqdm(corpus, disable = not verbose):\n",
    "            tokens = tokenizer(text)\n",
    "            if minlen <= len(tokens):\n",
    "                self._corpus.append(tokens)\n",
    "        if presort:\n",
    "            self._corpus.sort(key=len)\n",
    "        \n",
    "        \n",
    "    def __len__(self):\n",
    "        return len(self._corpus)\n",
    "    \n",
    "    @property\n",
    "    def tokenizer(self):\n",
    "        \"\"\"\n",
    "            returns: tokenizer. Нужно для тестов\n",
    "        \"\"\"\n",
    "        return self._tokenizer\n",
    "    \n",
    "    def set_maxlen(self, maxlen):\n",
    "        \"\"\"\n",
    "            maxlen: максимальная длина текста\n",
    "            \n",
    "            поставить новое максимальное значение длины\n",
    "        \"\"\"\n",
    "        self._maxlen = maxlen\n",
    "        \n",
    "    def __getitem__(self, idx):\n",
    "        \"\"\"\n",
    "            returns: \n",
    "                input_ids - тензор с индексами, \n",
    "                token_type_ids - тензор с сегментными айдишниками (0 у левого сегмента, 1 у правого),\n",
    "                permuted - был ли swap сегментов\n",
    "        \"\"\"\n",
    "        ###########################\n",
    "        ### ╰( ͡° ͜ʖ ͡° )つ──☆*:・ﾟ\n",
    "        ###########################\n",
    "        tokens = self._corpus[idx][:self._maxlen]\n",
    "        mid = len(tokens) // 2\n",
    "        left, right = tokens[:mid], tokens[mid:]\n",
    "\n",
    "        permuted = np.random.uniform() > self.permute_prob\n",
    "        if permuted:\n",
    "            input_ids = [self._tokenizer.cls_token_id] + right + [self._tokenizer.sep_token_id] + left\n",
    "            token_type_ids = [1]*(len(right)+2) + [0]*len(left)\n",
    "        else:\n",
    "            input_ids = [self._tokenizer.cls_token_id] + left + [self._tokenizer.sep_token_id] + right\n",
    "            token_type_ids = [0]*(len(left)+2) + [1]*len(right)\n",
    "        \n",
    "        return torch.tensor(input_ids), torch.tensor(token_type_ids), permuted"
   ]
  },
  {
   "cell_type": "markdown",
   "metadata": {},
   "source": [
    "Длину текстов нужно ограничить снизу. Нет смысла рассматривать слишком короткие тексты (например, единичную длину), для которых задачи предобучения вообще не работают. Длинные тексты более эффективны для задач типа MLM, так как у модели больше контекста для предсказания и больше таргетов на один объект.\n",
    "\n",
    "Разумный способ определить минимальную длину текстов для MLM  — подобрать такую минимальную длину, чтобы вероятность замаскировать хотя бы одно слово в тексте была больше заданного порога.\n",
    "\n",
    "Т.е. если мы каждое слово маскируем с вероятностью 15%, какой длины должен быть текст, чтобы с вероятностью $\\geqslant$ 50% было замаскировано хотя бы одно слово?\n",
    "\n",
    "Используйте ответ на данный вопрос как минимальную допустимую длину текстов:"
   ]
  },
  {
   "cell_type": "code",
   "execution_count": 9,
   "metadata": {},
   "outputs": [
    {
     "data": {
      "text/plain": [
       "4.265024281798726"
      ]
     },
     "execution_count": 9,
     "metadata": {},
     "output_type": "execute_result"
    }
   ],
   "source": [
    "###########################\n",
    "### ╰( ͡° ͜ʖ ͡° )つ──☆*:・ﾟ\n",
    "###########################\n",
    "\n",
    "#1 - 0.85^n > 0.5\n",
    "n = np.log(0.5) / np.log(0.85)\n",
    "n"
   ]
  },
  {
   "cell_type": "markdown",
   "metadata": {},
   "source": [
    "Создайте датасет (с произвольным разумным значением maxlen):"
   ]
  },
  {
   "cell_type": "code",
   "execution_count": 10,
   "metadata": {},
   "outputs": [
    {
     "name": "stderr",
     "output_type": "stream",
     "text": [
      "100%|██████████| 3155764/3155764 [01:57<00:00, 26862.39it/s]\n"
     ]
    }
   ],
   "source": [
    "ds = PretrainDataset(\n",
    "    ###########################\n",
    "    ### ╰( ͡° ͜ʖ ͡° )つ──☆*:・ﾟ\n",
    "    ###########################\n",
    "    corpus=data[\"text\"].tolist(),\n",
    "    tokenizer=tokenizer,\n",
    "    minlen=5,\n",
    "    maxlen=10**5,\n",
    "    verbose=True, \n",
    "    presort=True\n",
    ")"
   ]
  },
  {
   "cell_type": "code",
   "execution_count": 11,
   "metadata": {},
   "outputs": [
    {
     "name": "stdout",
     "output_type": "stream",
     "text": [
      "Correct.\n"
     ]
    }
   ],
   "source": [
    "tests.test_dataset(ds)"
   ]
  },
  {
   "cell_type": "code",
   "execution_count": 12,
   "metadata": {},
   "outputs": [
    {
     "data": {
      "text/plain": [
       "2731378"
      ]
     },
     "execution_count": 12,
     "metadata": {},
     "output_type": "execute_result"
    }
   ],
   "source": [
    "len(ds)"
   ]
  },
  {
   "cell_type": "markdown",
   "metadata": {},
   "source": [
    "Длину текстов нужно как-то ограничить сверху. Иначе, если встретится какой-то очень-очень длинный текст, он не поместится в видеопамять. Самый простой способ определить ограничение по длине  — после токенизации построить гистограмму длин (например, используя **sns.distplot**) и методом пристального взгляда определить разумное ограничение длины. Другой вариант  — взять большое значение квантили.\n",
    "\n",
    "**Вопрос:** какая максимальная длина текста подходит для этого датасета?"
   ]
  },
  {
   "cell_type": "code",
   "execution_count": 13,
   "metadata": {},
   "outputs": [
    {
     "data": {
      "image/png": "[encoded data removed]",
      "text/plain": [
       "<Figure size 1000x600 with 1 Axes>"
      ]
     },
     "metadata": {},
     "output_type": "display_data"
    }
   ],
   "source": [
    "import seaborn as sns\n",
    "import matplotlib.pyplot as plt\n",
    "\n",
    "###########################\n",
    "### ╰( ͡° ͜ʖ ͡° )つ──☆*:・ﾟ\n",
    "###########################\n",
    "\n",
    "lens = [len(text_tokens) for text_tokens in ds._corpus]\n",
    "\n",
    "# Визуализация\n",
    "plt.figure(figsize=(10, 6))\n",
    "sns.histplot(lens, bins=100)\n",
    "plt.title(\"Длины токенизированных текстов\")\n",
    "plt.xlabel(\"Длина\")\n",
    "plt.ylabel(\"Количество\")\n",
    "plt.show()"
   ]
  },
  {
   "cell_type": "code",
   "execution_count": 14,
   "metadata": {},
   "outputs": [
    {
     "data": {
      "text/plain": [
       "27.0"
      ]
     },
     "execution_count": 14,
     "metadata": {},
     "output_type": "execute_result"
    }
   ],
   "source": [
    "pd.Series(lens).quantile(0.99)"
   ]
  },
  {
   "cell_type": "markdown",
   "metadata": {},
   "source": [
    "Присвойте максимально допустимое значение длины:"
   ]
  },
  {
   "cell_type": "code",
   "execution_count": 10,
   "metadata": {},
   "outputs": [],
   "source": [
    "MAXLEN = 30"
   ]
  },
  {
   "cell_type": "code",
   "execution_count": 11,
   "metadata": {},
   "outputs": [
    {
     "name": "stderr",
     "output_type": "stream",
     "text": [
      "100%|██████████| 3155764/3155764 [01:57<00:00, 26849.39it/s]\n"
     ]
    }
   ],
   "source": [
    "#ds.set_maxlen(30)\n",
    "\n",
    "ds = PretrainDataset(\n",
    "    ###########################\n",
    "    ### ╰( ͡° ͜ʖ ͡° )つ──☆*:・ﾟ\n",
    "    ###########################\n",
    "    corpus=data[\"text\"].tolist(),\n",
    "    tokenizer=tokenizer,\n",
    "    minlen=5,\n",
    "    maxlen=MAXLEN,\n",
    "    verbose=True, \n",
    "    presort=True\n",
    ")"
   ]
  },
  {
   "cell_type": "code",
   "execution_count": 12,
   "metadata": {},
   "outputs": [
    {
     "name": "stdout",
     "output_type": "stream",
     "text": [
      "Correct.\n"
     ]
    }
   ],
   "source": [
    "tests.test_dataset(ds)"
   ]
  },
  {
   "cell_type": "markdown",
   "metadata": {},
   "source": [
    "Если для задачи **SOP** мы готовим данные при индексации датасета `PretrainDataset`, то маскирование для задачи **MLM** удобней делать в Collator'е в тензорном виде.\n",
    "\n",
    "Как с вероятностью `15%` заменить в тензоре `input_ids` значения на `0`: \n",
    "\n",
    "1. `mask = torch.rand(input_ids.shape) < 0.15`\n",
    "2. `input_ids = torch.where(mask, 0, input_ids)`\n",
    "\n",
    "Как сгенерировать случайные элементы словаря на каждый элемент батча: `torch.randint_like(input_ids, low=num_special_tokens, high=self._tokenizer.vocab_size)`.\n",
    "\n",
    "В `Collator` нужно также:\n",
    "1. сделать паддинг.\n",
    "2. из (примерно) 15% выбранных токенов 10% поменять на случайные и 10% оставить в исходном виде, остальные замаскировать\n",
    "3. сформировать таргеты. Нам нужно понимать, какие именно 15% токенов мы выбрали для предсказания + какие были исходные метки для них.\n",
    "\n",
    "Важно: `[CLS]` и другие специальные токены токены маскировать не надо"
   ]
  },
  {
   "cell_type": "code",
   "execution_count": 13,
   "metadata": {},
   "outputs": [],
   "source": [
    "from torch.utils.data import DataLoader\n",
    "from torch.nn.utils.rnn import pad_sequence\n",
    "\n",
    "def pad_sequence_with_last_value(sequences):\n",
    "    max_len = max(len(seq) for seq in sequences)\n",
    "    padded_sequences = []\n",
    "    \n",
    "    for seq in sequences:\n",
    "        num_pad = max_len - len(seq)\n",
    "        last_value = seq[-1] if len(seq) > 0 else 0\n",
    "        padding = seq.new_full((num_pad,), last_value)\n",
    "        padded_seq = torch.cat((seq, padding), 0)\n",
    "        padded_sequences.append(padded_seq)\n",
    "    return torch.stack(padded_sequences)\n",
    "\n",
    "class Collator:\n",
    "    \n",
    "    def __init__(\n",
    "            self,\n",
    "            tokenizer,\n",
    "            non_target_idx=-100,\n",
    "            mask_prob=0.15,\n",
    "            random_prob=0.1,\n",
    "            keep_unchanged_prob=0.1\n",
    "    ):\n",
    "        \"\"\"\n",
    "            tokenizer: токенизатор\n",
    "            non_target_idx: значение для индексов, не использующихся как таргеты. \n",
    "                Используйте его, чтобы пометить \"не таргет\" токены\n",
    "            mask_prob: вероятность выбрать индекс как таргет\n",
    "            random_prob: вероятность для уже выбранного индекса поменять его на случайное значение вместо маскирования\n",
    "            keen_unchanged_prob: вероятность оставить индекс в исходном виде вместо маскирования\n",
    "        \"\"\"\n",
    "        ###########################\n",
    "        ### ╰( ͡° ͜ʖ ͡° )つ──☆*:・ﾟ\n",
    "        ###########################\n",
    "        self._tokenizer = tokenizer\n",
    "        self.non_target_idx = non_target_idx\n",
    "        self.mask_prob = mask_prob\n",
    "        self.random_prob = random_prob\n",
    "        self.keep_unchanged_prob = keep_unchanged_prob\n",
    "        \n",
    "        \n",
    "    def __call__(self, batch):\n",
    "        \"\"\"\n",
    "            batch: список вида [ds[i] for i in [12, 3, 2, 5]]\n",
    "            \n",
    "            returns: \n",
    "                input_ids: испорченные входные индексы токенов с замаскированными значениями\n",
    "                token_type_ids: сегментные эмбеддинги\n",
    "                labels: истинные значения входных индексов, как таргеты\n",
    "                permuted: был ли свап сегментов\n",
    "        \"\"\"\n",
    "        ###########################\n",
    "        ### ╰( ͡° ͜ʖ ͡° )つ──☆*:・ﾟ\n",
    "        ###########################\n",
    "        input_ids = []\n",
    "        token_type_ids = []\n",
    "        labels = []\n",
    "        permuted = []\n",
    "        special_tokens = [\n",
    "            self._tokenizer.cls_token_id,\n",
    "            self._tokenizer.pad_token_id, \n",
    "            self._tokenizer.unk_token_id,\n",
    "            self._tokenizer.mask_token_id, \n",
    "            self._tokenizer.sep_token_id\n",
    "        ]\n",
    "\n",
    "        for sample in batch:\n",
    "            inputs, token_type_id, permute = sample\n",
    "            input_ids.append(inputs)\n",
    "            token_type_ids.append(token_type_id)\n",
    "            permuted.append(permute)\n",
    "\n",
    "        input_ids = pad_sequence(input_ids, batch_first=True, padding_value=self._tokenizer.pad_token_id)\n",
    "        token_type_ids = pad_sequence_with_last_value(token_type_ids)\n",
    "\n",
    "        labels = input_ids.clone()\n",
    "        mask = (torch.rand(input_ids.shape, device=input_ids.device) < self.mask_prob) * (input_ids != self._tokenizer.cls_token_id) *\\\n",
    "                (input_ids != self._tokenizer.pad_token_id) * (input_ids != self._tokenizer.unk_token_id) * \\\n",
    "                (input_ids != self._tokenizer.mask_token_id) * (input_ids != self._tokenizer.sep_token_id)\n",
    "        \n",
    "        labels[~mask] = self.non_target_idx\n",
    "        input_ids[mask] = self._tokenizer.mask_token_id\n",
    "        \n",
    "        indices_random = mask * (torch.rand(input_ids.shape, device=input_ids.device) < self.random_prob)\n",
    "        random_tokens = torch.randint(low=6, high=self._tokenizer.vocab_size, size=input_ids[indices_random].shape, device=input_ids.device)\n",
    "        input_ids[indices_random] = random_tokens\n",
    "\n",
    "        indices_old = mask * (torch.rand(input_ids.shape, device=input_ids.device) < self.keep_unchanged_prob)\n",
    "        input_ids[indices_old] = labels[indices_old]\n",
    "        \n",
    "        return input_ids, token_type_ids, labels, torch.tensor(permuted)"
   ]
  },
  {
   "cell_type": "markdown",
   "metadata": {},
   "source": [
    "Создайте `collator` и `dataloader`. Для предобучения предлагается использовать большой `batch_size`."
   ]
  },
  {
   "cell_type": "code",
   "execution_count": 14,
   "metadata": {},
   "outputs": [],
   "source": [
    "collator = Collator(tokenizer, non_target_idx=-100)\n",
    "\n",
    "dl = DataLoader(\n",
    "    ds, \n",
    "    collate_fn=collator, \n",
    "    batch_size=1024, \n",
    "    shuffle=False\n",
    ")"
   ]
  },
  {
   "cell_type": "code",
   "execution_count": 15,
   "metadata": {},
   "outputs": [
    {
     "name": "stdout",
     "output_type": "stream",
     "text": [
      "Correct.\n"
     ]
    }
   ],
   "source": [
    "tests.test_collator(ds, collator)"
   ]
  },
  {
   "cell_type": "markdown",
   "metadata": {},
   "source": [
    "## Часть 2. Создание модели (2 балла)"
   ]
  },
  {
   "cell_type": "markdown",
   "metadata": {},
   "source": [
    "В качестве модели мы будем использовать энкодер трансформера точь-в-точь в таком же виде, как его использовали в оригинальной статье про BERT. \n",
    "\n",
    "Прежде чем начать писать составляющие энкодера, обсудим инициализацию весов. Для трансформера нам понадобится большое количество линейных слов (`nn.Linear`), у которых для инициализации по дефолту используется равномерное распределение и отсутствует зануление bias'ов: $$\\text{Uniform}\\left(-\\frac{1}{\\sqrt{N_{\\text{in_features}}}}, \\frac{1}{\\sqrt{N_{\\text{in_features}}}}\\right).$$\n",
    "\n",
    "В оригинальной статье про BERT для весов используется **TruncatedNormal** со стандартным отклонением 0.02, bias'ы инициализируются нулями и модель обучается значительно лучше (это можно в ходе домашнего задания проверить).\n",
    "\n",
    "Поэтому, после создания линейных слоев и матрицы эмбеддингов, необходимо в явном виде вызывать для них TruncatedNormal инициализацию:\n",
    "\n",
    "1. `layer = ...`\n",
    "2. `nn.init.trunc_normal_(layer.weight.data, std=0.02, a=-2 * 0.02, b=2 * 0.02)`.\n",
    "\n",
    "Для линейных слоев нужно также вызывать `layer.bias.data.zero_()`.\n",
    "\n",
    "\n",
    "**TruncatedNormal** распределение отличается от нормального тем, что если величины выходят за границы отрезка [a, b], для этих величин повторно происходит сэмплирование до тех пор, пока они не попадут в нужный отрезок. Для BERT stddev = 0.02:\n",
    "\n",
    "$$[a; b] = [- 2  \\cdot \\text{stddev}; 2 \\cdot \\text{stddev}].$$\n",
    "\n",
    "Напишите функцию для инициализации линейных слоев и матрицы эмбеддингов **TruncatedNormal** распределением:"
   ]
  },
  {
   "cell_type": "code",
   "execution_count": 16,
   "metadata": {},
   "outputs": [],
   "source": [
    "from torch import nn\n",
    "\n",
    "\n",
    "def init_layer(layer, initializer_range=0.02, zero_out_bias=True):\n",
    "    \"\"\"\n",
    "        layer: наследник nn.Module, т.е. слой в pytorch\n",
    "        initializer_range: stddev для truncated normal\n",
    "        zero_out_bias: True для линейных слоев, False для матрицы эмбеддингов\n",
    "    \"\"\"\n",
    "    ###########################\n",
    "    ### ╰( ͡° ͜ʖ ͡° )つ──☆*:・ﾟ\n",
    "    ###########################\n",
    "    if isinstance(layer, nn.Linear) or isinstance(layer, nn.Embedding):\n",
    "        nn.init.trunc_normal_(layer.weight.data, mean=0.0, std=initializer_range, a=-2*initializer_range, b=2*initializer_range)\n",
    "        if isinstance(layer, nn.Linear):\n",
    "            layer.bias.data.zero_()"
   ]
  },
  {
   "cell_type": "markdown",
   "metadata": {},
   "source": [
    "Приступим к созданию энкодера трансформера.\n",
    "\n",
    "<img src=\"images/transformer.png\" width=500 height=600 />"
   ]
  },
  {
   "cell_type": "markdown",
   "metadata": {},
   "source": [
    "Сформируем слой, создающий входные векторы токенов. Для этого нам нужны:\n",
    "1. Эмбеддинги токенов (`nn.Embedding`)\n",
    "2. Позиционные эмбеддинги (можно либо использовать `nn.Embedding`, либо явно создать матрицу эмбеддингов с помощью `nn.Parameter`)\n",
    "3. Сегментные эмбеддинги\n",
    "\n",
    "Эти три сущности складываются, затем идет layernorm и dropout.\n",
    "\n",
    "<img src=\"images/bert_input.png\" width=800 height=600 />"
   ]
  },
  {
   "cell_type": "code",
   "execution_count": 17,
   "metadata": {},
   "outputs": [],
   "source": [
    "class BertEmbeddings(nn.Module):\n",
    "    \n",
    "    def __init__(\n",
    "            self, \n",
    "            vocab_size, \n",
    "            hidden_size, \n",
    "            max_seqlen,\n",
    "            dropout_prob=0., \n",
    "            type_vocab_size=2,\n",
    "            eps=1e-3\n",
    "    ):\n",
    "        \"\"\"\n",
    "            vocab_size: размер словаря\n",
    "            hidden_size: размерность эмбеддингов\n",
    "            max_seqlen: количество позиционных эмбеддингов\n",
    "            dropout_prob: вероятность дропаута в конце слоя\n",
    "            type_vocab_size: количество сегментных эмбеддингов\n",
    "            eps: eps для layernorm\n",
    "        \"\"\"\n",
    "        super().__init__()\n",
    "        self._token_embeddings = nn.Embedding(vocab_size, hidden_size)\n",
    "        ###########################\n",
    "        ### ╰( ͡° ͜ʖ ͡° )つ──☆*:・ﾟ\n",
    "        ###########################\n",
    "        self.position_embeddings = nn.Embedding(max_seqlen, hidden_size)\n",
    "        self.sentence_embeddings = nn.Embedding(type_vocab_size, hidden_size)\n",
    "        self.layer_norm = nn.LayerNorm(hidden_size, eps)\n",
    "        self.dropout = nn.Dropout(dropout_prob)\n",
    "        \n",
    "    def get_token_embeddings(self):\n",
    "        \"\"\"\n",
    "            returns: возвращает слой с матрицей эмбеддингов для токенов. Нужен для MLM головы\n",
    "        \"\"\"\n",
    "        return self._token_embeddings\n",
    "    \n",
    "    def forward(self, input_ids, token_type_ids=None):\n",
    "        \"\"\"\n",
    "            input_ids: тензор с индексами токенов\n",
    "            token_type_ids: сегментные индексы\n",
    "            \n",
    "            returns: эмбеддинги токенов\n",
    "        \"\"\"\n",
    "        ###########################\n",
    "        ### ╰( ͡° ͜ʖ ͡° )つ──☆*:・ﾟ\n",
    "        ###########################\n",
    "        token_embed = self._token_embeddings(input_ids)\n",
    "        pos_embed = self.position_embeddings(torch.arange(input_ids.shape[1], dtype=input_ids.dtype).unsqueeze(0).expand(input_ids.shape[0], -1).to(input_ids.device))\n",
    "        if token_type_ids is not None:\n",
    "            sent_embed = self.sentence_embeddings(token_type_ids)\n",
    "        embed = token_embed + pos_embed + sent_embed if token_type_ids is not None else token_embed + pos_embed\n",
    "        return self.dropout(self.layer_norm(embed))"
   ]
  },
  {
   "cell_type": "code",
   "execution_count": 18,
   "metadata": {},
   "outputs": [
    {
     "name": "stdout",
     "output_type": "stream",
     "text": [
      "Correct. Amount of parameters is: 7746560.\n"
     ]
    }
   ],
   "source": [
    "tests.test_bert_embeddings(BertEmbeddings)"
   ]
  },
  {
   "cell_type": "markdown",
   "metadata": {},
   "source": [
    "Как выглядит одноголовый **SelfAttention**:\n",
    "    \n",
    "<img src=\"images/attention.png\" width=600 height=200 />"
   ]
  },
  {
   "cell_type": "markdown",
   "metadata": {},
   "source": [
    "Как выглядит многоголовый (multihead) **SelfAttention:**\n",
    "\n",
    "<img src=\"images/multihead.png\" width=200 height=200 />"
   ]
  },
  {
   "cell_type": "markdown",
   "metadata": {},
   "source": [
    "Реализация **MultiHeadSelfAttention** — самая сложная часть энкодера. Дальше будет проще :)\n",
    "\n",
    "1. Принимаем на вход посл-ть векторов для каждого объекта в батче, т.е. тензор размера `batch_size x seqlen x dim`\n",
    "2. Получаем из исходных векторов векторы `query, key, value` с помощью линейного слоя. $W_q X, W_k X, W_v X$.\n",
    "    * **Важно:** не нужно делать три отдельных линейных слоя. Сделайте один линейный слой в три раза шире, затем после его применения разделите результат на три части с помощью метода `.chunk`. $W_{qkv} X$.\n",
    "3. Полученные query, key, value векторы делятся между \"головами\" аттеншна c помощью `.view`. Далее операции происходят для каждой головы отдельно.\n",
    "4. Нужно посчитать скалярные произведения всех запросов (queries) со всеми ключами (keys): $QV^T$.\n",
    "5. Заменить значения для паддинг токенов на очень маленькие (большие отрицательные), чтобы они не влияли на софтмакс:         \n",
    "    `attention_scores = attention_mask * attention_scores + (1 - attention_mask) * -100000`\n",
    "\n",
    "6. Применить Dropout аттеншн скоров, который  выкидывает из аттеншна токены целиком.\n",
    "7. Поделить \"аттеншны скоры\" на корень из размерности векторов и взять софтмакс по ключам. Т.е. $\\text{softmax}(\\frac{QK^T}{\\sqrt{d}}, \\text{axis=1})$\n",
    "8. Посчитать контекстные векторы запросов $\\text{softmax}(\\frac{QK^T}{\\sqrt{d}}, \\text{axis=1})V$.\n",
    "9. Сконкатенировать контекстные векторы всех голов и применить линейный слой той же размерности и dropout.\n",
    "10. Сложить со входом **MultiHeadSelfAttention** слоя, применить layernorm: $\\text{layernorm}(x + \\text{dropout}(f(x)))$.\n",
    "\n",
    "**Про аттеншн маску:**\n",
    "* В полном виде аттеншн маска имеет размерность `batch_size x seqlen x seqlen`\n",
    "* У нас же если токен не паддинг, то его видят остальные токены, поэтому по сути вся информация содержится в матрице размера `batch_size x seqlen` с предикатом является ли токен паддингом\n",
    "* Эту матрицу размера `batch_size x seqlen` можно привести к виду `batch_size x seqlen x seqlen` операцией вида `attention_mask[:, None] * torch.ones_like(attention_mask)[..., None]`\n",
    "\n",
    "**Вопросы:**\n",
    "1. Зачем нужно делить на корень из $d$ результаты скалярных произведений?\n",
    "2. Почему одно большое умножение на матрицу лучше, чем три маленьких?\n",
    "3. Что будет, если мы не будем заменять значения аттеншн скоров паддинг токенов на большие отрицательные значения?\n",
    "4. Какая вычислительная сложность (количество умножений) у операции **MultiheadSelfAttention**?\n",
    "\n",
    "**Ваши ответы напишите здесь:**\n",
    "1. Чтобы сохранить дисперсию примерно равную 1 для более стабильной работы сети и процесса её обучения\n",
    "2. Так более эффективно. Можно распараллелить матричное вычисление для более быстрого умножения\n",
    "3. Паддинг нужен только для того, чтобы одновременно обрабатывать батч из нескольких предложений разной длины. Мы не должны обращать внимание на токены, которых по факту нет.\n",
    "4. Для начала нужно вычислить k, q и v, для этого перемножаем исходную матрицу на проекционную: $(n \\times D) \\cdot (D \\times d) = (n \\times d)$. Это $O(ndD)$ операций. Затем считаем внимание: перемножаем матрицы размера $(n \\times d) \\cdot (d \\times n) = (n \\times n)$. И Затем $(n \\times n) \\cdot (n \\times d)$. В обоих случаях это $O(n^2d)$ операций. И таких $K$ голов. Таким образом, квадратично зависит от длины последовательности и линейно для других параметров."
   ]
  },
  {
   "cell_type": "code",
   "execution_count": 19,
   "metadata": {},
   "outputs": [],
   "source": [
    "import math\n",
    "import torch\n",
    "import torch.nn as nn\n",
    "import torch.nn.functional as F\n",
    "\n",
    "class MultiHeadSelfAttention(nn.Module):\n",
    "    \n",
    "    def __init__(\n",
    "            self,\n",
    "            hidden_size,\n",
    "            num_attention_heads,\n",
    "            attention_probs_dropout_prob=0.,\n",
    "            dropout_prob=0.,\n",
    "            eps=1e-3\n",
    "    ):\n",
    "        \"\"\"\n",
    "            hidden_size: размерность эмбеддингов\n",
    "            num_attention_heads: количество голов аттеншна. Обычно выбирается как hidden_size / num_attention_heads = 64,\n",
    "                т.е. размерность векторов у одной головы 64\n",
    "            attention_probs_dropout_prob: вероятность дропаута для аттеншн скоров\n",
    "            dropout_prob: вероятность дропаута в конце слоя (перед суммой со входами)\n",
    "            eps: eps для layernorm\n",
    "        \"\"\"\n",
    "        super().__init__()\n",
    "        ###########################\n",
    "        ### ╰( ͡° ͜ʖ ͡° )つ──☆*:・ﾟ\n",
    "        ###########################\n",
    "        self.hidden_size = hidden_size\n",
    "        self.num_attention_heads = num_attention_heads\n",
    "        self.attention_head_size = hidden_size // num_attention_heads\n",
    "        self.all_head_size = self.num_attention_heads * self.attention_head_size\n",
    "\n",
    "        self.qkv = nn.Linear(hidden_size, self.all_head_size*3)\n",
    "\n",
    "        self.attn_dropout = nn.Dropout(attention_probs_dropout_prob)\n",
    "        self.o_proj = nn.Linear(hidden_size, hidden_size)\n",
    "        self.out_dropout = nn.Dropout(dropout_prob)\n",
    "        self.layer_norm = nn.LayerNorm(hidden_size, eps)\n",
    "\n",
    "    @property\n",
    "    def size_per_head(self):\n",
    "        \"\"\"\n",
    "            returns: размерность векторов для одной головы\n",
    "        \"\"\"\n",
    "        ###########################\n",
    "        ### ╰( ͡° ͜ʖ ͡° )つ──☆*:・ﾟ\n",
    "        ###########################\n",
    "        return self.attention_head_size\n",
    "    \n",
    "    def forward(self, embeddings, attention_mask):\n",
    "        \"\"\"\n",
    "            embeddings: входные эмбеддинги\n",
    "            attention_mask: тензор из 0, 1 размерности batch_size x seqlen x seqlen\n",
    "            \n",
    "            returns: контекстные векторы\n",
    "        \"\"\"\n",
    "        ###########################\n",
    "        ### ╰( ͡° ͜ʖ ͡° )つ──☆*:・ﾟ\n",
    "        ###########################\n",
    "        query, key, value = self.qkv(embeddings).chunk(chunks=3, dim=-1)\n",
    "        batch_size, seq_len, _ = query.shape\n",
    "        query = query.view(batch_size, seq_len, self.num_attention_heads, self.attention_head_size).transpose(1, 2)\n",
    "        key = key.view(batch_size, seq_len, self.num_attention_heads, self.attention_head_size).transpose(1, 2)\n",
    "        value = value.view(batch_size, seq_len, self.num_attention_heads, self.attention_head_size).transpose(1, 2)\n",
    "        \n",
    "        attention_scores = torch.matmul(query, key.transpose(2, 3)) / math.sqrt(self.attention_head_size)\n",
    "        attention_mask = attention_mask.unsqueeze(1)\n",
    "        attention_scores = attention_mask*attention_scores + (1 - attention_mask)*(-100000.)\n",
    "        attention_scores = self.attn_dropout(attention_scores)\n",
    "        \n",
    "        attn_weights = F.softmax(attention_scores, dim=-1, dtype=torch.float32).to(query.dtype)\n",
    "        attn_output = torch.matmul(attn_weights, value)\n",
    "\n",
    "        attn_output = attn_output.transpose(1, 2).contiguous()\n",
    "        attn_output = attn_output.reshape(batch_size, seq_len, -1)\n",
    "        \n",
    "        attn_output = self.o_proj(attn_output)\n",
    "        output = self.layer_norm(self.out_dropout(attn_output) + embeddings)\n",
    "        return output"
   ]
  },
  {
   "cell_type": "code",
   "execution_count": 20,
   "metadata": {},
   "outputs": [
    {
     "name": "stdout",
     "output_type": "stream",
     "text": [
      "Correct. Amount of parameters: 263680.\n"
     ]
    }
   ],
   "source": [
    "tests.test_attention(MultiHeadSelfAttention)"
   ]
  },
  {
   "cell_type": "markdown",
   "metadata": {},
   "source": [
    "Реализовать **полносвязный слой** гораздо проще - $\\text{layernorm}(\\text{dropout}(W_2 f(W_1 x + b_1) + b_2) + x)$:\n",
    "1. Линейный слой, расширяющий входные векторы до *intermediate_size*, который традиционно равен 4 * hidden_size, т.е. происходит расширение в четыре раза\n",
    "2. Функция активации (больше вы их нигде в модели не увидите)\n",
    "3. Линейный слой, сужающий векторы обратно до *hidden_size*\n",
    "4. Dropout, сложение со входом полносвязного слоя, layernorm\n",
    "\n",
    "**Вопросы:**\n",
    "1. Что дает \"расширение\" первым линейным слоем? Нельзя ли делать линейный слой поменьше?\n",
    "2. Какая вычислительная сложность (количество умножений) у операции?\n",
    "3. Используются ли где-то еще в трансформере функции активации (если не считать softmax функцией активации)?\n",
    "\n",
    "**Ваши ответы напишите здесь:**\n",
    "1. Больше параметров - больше инфы можем запомнить, больше обобщающей способности. Можно и меньше, но тогда резы будут чуть похуже.\n",
    "2. Сначала $(n \\times hid\\_size) \\cdot (hid\\_size \\times inter\\_size) = (n \\times inter\\_size)$. Далее наоборот $(n \\times inter\\_size) \\cdot (inter\\_size \\times hid\\_size) = (n \\times hid\\_size)$. Ну LayerNorm на $hid\\_size$ операций. Таким образом, всего $O(n \\cdot hid\\_size \\cdot inter\\_size)$ операций\n",
    "3. В самом конце на головке, которой предсказываем токен для задач предобучения."
   ]
  },
  {
   "cell_type": "code",
   "execution_count": 21,
   "metadata": {},
   "outputs": [],
   "source": [
    "class FeedForward(nn.Module):\n",
    "    \n",
    "    def __init__(\n",
    "            self, \n",
    "            hidden_size, \n",
    "            intermediate_size, \n",
    "            dropout_prob=0., \n",
    "            act_func='relu', \n",
    "            eps=1e-3\n",
    "    ):\n",
    "        \"\"\"\n",
    "            hidden_size: размерность эмбеддингов\n",
    "            intermediate_size: размерность промежуточно слоя. Обычно 4 * hidden_size\n",
    "            dropout_prob: вероятность дропаута перед суммой со входными представлениями\n",
    "            act_func: функция активации. Должны быть доступны gelu, relu\n",
    "            eps: eps для layernorm\n",
    "        \"\"\"\n",
    "        super().__init__()\n",
    "        ###########################\n",
    "        ### ╰( ͡° ͜ʖ ͡° )つ──☆*:・ﾟ\n",
    "        ###########################\n",
    "        self.mlp = nn.Sequential(\n",
    "            nn.Linear(hidden_size, intermediate_size),\n",
    "            nn.ReLU() if act_func.lower()=='relu' else nn.GELU(),\n",
    "            nn.Linear(intermediate_size, hidden_size),\n",
    "            nn.Dropout(dropout_prob)\n",
    "        )\n",
    "        self.layer_norm = nn.LayerNorm(hidden_size, eps)\n",
    "        \n",
    "    def forward(self, embeddings):\n",
    "        \"\"\"\n",
    "            embeddings: входные эмбеддинги размерности batch_size x seqlen x hidden_size\n",
    "            \n",
    "            returns: преобразованные эмбеддинги той же размерности\n",
    "        \"\"\"\n",
    "        ###########################\n",
    "        ### ╰( ͡° ͜ʖ ͡° )つ──☆*:・ﾟ\n",
    "        ###########################\n",
    "        return self.layer_norm(self.mlp(embeddings) + embeddings)"
   ]
  },
  {
   "cell_type": "code",
   "execution_count": 22,
   "metadata": {},
   "outputs": [
    {
     "name": "stdout",
     "output_type": "stream",
     "text": [
      "Correct. Amount of parameters is: 526080.\n"
     ]
    }
   ],
   "source": [
    "tests.test_feedforward(FeedForward)"
   ]
  },
  {
   "cell_type": "markdown",
   "metadata": {},
   "source": [
    "Объединим **MultiHeadSelfAttention** и **Feedforward** в один блок энкодера. Они применяются последовательно:"
   ]
  },
  {
   "cell_type": "code",
   "execution_count": 23,
   "metadata": {},
   "outputs": [],
   "source": [
    "class BertLayer(nn.Module):\n",
    "    \n",
    "    def __init__(\n",
    "            self, \n",
    "            hidden_size, \n",
    "            intermediate_size, \n",
    "            num_attention_heads, \n",
    "            dropout_prob=0., \n",
    "            attention_probs_dropout_prob=0.,\n",
    "            act_func='relu',\n",
    "            eps=1e-3\n",
    "    ):\n",
    "        super().__init__()\n",
    "        self._multihead_attention = MultiHeadSelfAttention(\n",
    "            hidden_size=hidden_size,\n",
    "            num_attention_heads=num_attention_heads,\n",
    "            attention_probs_dropout_prob=attention_probs_dropout_prob,\n",
    "            dropout_prob=dropout_prob,\n",
    "            eps=eps\n",
    "        )\n",
    "        \n",
    "        self._feedforward = FeedForward(\n",
    "            hidden_size=hidden_size,\n",
    "            intermediate_size=intermediate_size,\n",
    "            act_func=act_func,\n",
    "            eps=eps,\n",
    "            dropout_prob=dropout_prob\n",
    "        )\n",
    "        \n",
    "    def forward(self, x, attention_mask=None):\n",
    "        x = self._multihead_attention(x, attention_mask)\n",
    "        x = self._feedforward(x)\n",
    "        return x"
   ]
  },
  {
   "cell_type": "code",
   "execution_count": 24,
   "metadata": {},
   "outputs": [
    {
     "name": "stdout",
     "output_type": "stream",
     "text": [
      "Correct. Amount of parameters is: 789760.\n"
     ]
    }
   ],
   "source": [
    "tests.test_bert_layer(BertLayer)"
   ]
  },
  {
   "cell_type": "markdown",
   "metadata": {},
   "source": [
    "Объедините **BertEmbeddings** и произвольное заданное число **BertLayer** слоёв в один слой:"
   ]
  },
  {
   "cell_type": "code",
   "execution_count": 25,
   "metadata": {},
   "outputs": [],
   "source": [
    "class Bert(nn.Module):\n",
    "    \n",
    "    def __init__(\n",
    "            self, \n",
    "            vocab_size,\n",
    "            max_seqlen,\n",
    "            hidden_size,\n",
    "            num_hidden_layers,\n",
    "            intermediate_size, \n",
    "            num_attention_heads, \n",
    "            input_dropout_prob=0.,\n",
    "            dropout_prob=0., \n",
    "            attention_probs_dropout_prob=0.,\n",
    "            act_func='relu',\n",
    "            eps=1e-3\n",
    "    ):\n",
    "        super().__init__()\n",
    "        ###########################\n",
    "        ### ╰( ͡° ͜ʖ ͡° )つ──☆*:・ﾟ\n",
    "        ###########################\n",
    "        self._embeddings = BertEmbeddings(\n",
    "            vocab_size, \n",
    "            hidden_size, \n",
    "            max_seqlen, \n",
    "            input_dropout_prob, \n",
    "            eps=eps\n",
    "        )\n",
    "\n",
    "        self.encoder_layers = nn.ModuleList([\n",
    "            BertLayer(\n",
    "                hidden_size,\n",
    "                intermediate_size,\n",
    "                num_attention_heads,\n",
    "                dropout_prob,\n",
    "                attention_probs_dropout_prob,\n",
    "                act_func,\n",
    "                eps\n",
    "            ) for _ in range(num_hidden_layers)\n",
    "        ])\n",
    "        \n",
    "    def get_token_embeddings(self):\n",
    "        \"\"\"\n",
    "            returns: эмбеддинги токенов (матрицу эмбеддингов)\n",
    "        \"\"\"\n",
    "        return self._embeddings.get_token_embeddings()\n",
    "    \n",
    "    @staticmethod\n",
    "    def expand_mask(attention_mask):\n",
    "        \"\"\"\n",
    "            attention_mask: маска паддинга размерности batch_size x seqlen\n",
    "            \n",
    "            returns: маска паддинга размерности batch_size x seqlen x seqlen\n",
    "        \"\"\"\n",
    "        return attention_mask[:, None] * torch.ones_like(attention_mask)[..., None]\n",
    "    \n",
    "    def forward(self, x, attention_mask=None, token_type_ids=None):\n",
    "        ###########################\n",
    "        ### ╰( ͡° ͜ʖ ͡° )つ──☆*:・ﾟ\n",
    "        ###########################\n",
    "        embeddings = self._embeddings(x, token_type_ids)\n",
    "        attention_mask = self.expand_mask(attention_mask)\n",
    "        for layer in self.encoder_layers:\n",
    "            embeddings = layer(embeddings, attention_mask)\n",
    "        return embeddings"
   ]
  },
  {
   "cell_type": "code",
   "execution_count": 26,
   "metadata": {},
   "outputs": [
    {
     "name": "stdout",
     "output_type": "stream",
     "text": [
      "Correct. Amount of parameters is: 10905600.\n"
     ]
    }
   ],
   "source": [
    "tests.test_bert(Bert)"
   ]
  },
  {
   "cell_type": "markdown",
   "metadata": {},
   "source": [
    "Для предобучения (и для целевых задач) необходимо задать \"головы\" модели:\n",
    "\n",
    "Голова для **MLM** задачи выглядит как $W_2 \\text{layernorm} (f(W_1 x + b_1)) + b_2$:\n",
    "1. Линейный слой $d \\times d$\n",
    "2. Функция активации\n",
    "3. LayerNorm\n",
    "4. Линейный слой $d \\times |V|$, где $|V|$ --- размер словаря. **Важно:** в качестве матрицы, на которую происходит умножение при аффинном преобразовании, берется матрица эмбеддингов токенов.\n",
    "5. Функционал ошибки тоже будем считать сразу в голове, для него используется **nn.CrossEntropyLoss**: \n",
    "    * `self._criterion(preds.view(-1, self._vocab_size), labels.view(-1))`\n",
    "\n",
    "Чтобы использовать матрицу входных эмбеддингов вместо последнего линейного слоя в голове, можно использовать присваивание вида`self._decoder.weight = input_embeddings.weight`."
   ]
  },
  {
   "cell_type": "code",
   "execution_count": 27,
   "metadata": {},
   "outputs": [],
   "source": [
    "class MlmHead(nn.Module):\n",
    "\n",
    "    def __init__(\n",
    "            self, \n",
    "            hidden_size, \n",
    "            vocab_size, \n",
    "            hidden_act, \n",
    "            eps=1e-3, \n",
    "            ignore_index=-100, \n",
    "            input_embeddings=None\n",
    "    ):\n",
    "        \"\"\"\n",
    "            hidden_size: размерность эмбеддингов\n",
    "            vocab_size: размер словаря\n",
    "            hidden_act: функция активации\n",
    "            eps: eps для layernorm\n",
    "            ignore_index: индекс таргета, который необходимо игнорировать при подсчете лосса\n",
    "            input_embeddings: слой с эмбеддингами токенов, для использования матрицы эмбеддингов вместо линейного слоя\n",
    "        \"\"\"\n",
    "        super().__init__()\n",
    "        ###########################\n",
    "        ### ╰( ͡° ͜ʖ ͡° )つ──☆*:・ﾟ\n",
    "        ###########################\n",
    "        self.ignore_index = ignore_index\n",
    "        self.mlp = nn.Sequential(\n",
    "            nn.Linear(hidden_size, hidden_size),\n",
    "            nn.ReLU() if hidden_act.lower()=='relu'else nn.GELU(),\n",
    "            nn.LayerNorm(hidden_size, eps=eps)\n",
    "        )\n",
    "        self.decoder = nn.Linear(hidden_size, vocab_size)        \n",
    "        if input_embeddings is not None:\n",
    "            self.decoder.weight = input_embeddings.weight\n",
    "        \n",
    "        self.criterion = nn.CrossEntropyLoss(ignore_index=ignore_index)\n",
    "\n",
    "    def forward(self, hidden_states, labels):\n",
    "        \"\"\"\n",
    "            hidden_states: эмбеддинги токенов\n",
    "            labels: истинные метки, т.е. изначальные индексы токенов\n",
    "            \n",
    "            returns: посчитанный лосс\n",
    "        \"\"\"\n",
    "        ###########################\n",
    "        ### ╰( ͡° ͜ʖ ͡° )つ──☆*:・ﾟ\n",
    "        ###########################\n",
    "        # self.criterion(preds.view(-1, preds.size(-1)), labels.view(-1))\n",
    "        labels = labels.view(-1)\n",
    "        preds = self.decoder(self.mlp(hidden_states))\n",
    "        preds = preds.view(-1, preds.size(-1))\n",
    "        loss = self.criterion(preds, labels)\n",
    "        return loss"
   ]
  },
  {
   "cell_type": "code",
   "execution_count": 28,
   "metadata": {},
   "outputs": [
    {
     "name": "stdout",
     "output_type": "stream",
     "text": [
      "Correct. Amount of parameters is: 7776304.\n"
     ]
    }
   ],
   "source": [
    "tests.test_mlm_head(MlmHead, BertEmbeddings)"
   ]
  },
  {
   "cell_type": "markdown",
   "metadata": {},
   "source": [
    "Голова для **SOP**-задачи выглядит аналогично и в оригинальной статье называется \"pooler-слоем\":\n",
    "1. Берем скрытое представление CLS токена\n",
    "2. Линейный слой $d \\times d$\n",
    "3. Функция активации, причем в качестве функции активации используется гиперболический тангенс **nn.Tanh**\n",
    "4. Dropout\n",
    "5. Линейный слой\n",
    "6. Функционал ошибки (бинарная кросс-энтропия с логитами, **nn.BCEWithLogitsLoss**)\n",
    "\n",
    "Эту голову (кроме последнего линейного слоя) мы будем использовать также и для целевой задачи (классификации чеков)."
   ]
  },
  {
   "cell_type": "code",
   "execution_count": 29,
   "metadata": {},
   "outputs": [],
   "source": [
    "class ClassifierHead(nn.Module):\n",
    "    CLS_POSITION = 0\n",
    "    CRITERION = nn.BCEWithLogitsLoss()\n",
    "    \n",
    "    def __init__(self, hidden_size, num_classes=1, hidden_dropout_prob=0.):\n",
    "        \"\"\"\n",
    "            hidden_size: размерность эмбеддингов\n",
    "            hidden_dropout_prob: вероятность дропаута\n",
    "        \"\"\"\n",
    "        super().__init__()\n",
    "        ###########################\n",
    "        ### ╰( ͡° ͜ʖ ͡° )つ──☆*:・ﾟ\n",
    "        ###########################\n",
    "        self.mlp = nn.Sequential(\n",
    "            nn.Linear(hidden_size, hidden_size),\n",
    "            nn.Tanh(),\n",
    "            nn.Dropout(hidden_dropout_prob),\n",
    "            nn.Linear(hidden_size, num_classes)\n",
    "        )\n",
    "\n",
    "    def forward(self, hidden_states, permuted=None):\n",
    "        \"\"\"\n",
    "            hidden_states: эмбеддинги\n",
    "            permuted: таргеты (были ли свапы сегментов). Если их нет, то необходимо выдать предсказания\n",
    "        \"\"\"\n",
    "        ###########################\n",
    "        ### ╰( ͡° ͜ʖ ͡° )つ──☆*:・ﾟ\n",
    "        ###########################\n",
    "        cls_token = hidden_states[:, self.CLS_POSITION, :]\n",
    "        pred = self.mlp(cls_token)\n",
    "        if permuted is not None:\n",
    "            loss = self.CRITERION(pred.view(-1, 1), permuted.view(-1, 1).float())\n",
    "            return loss\n",
    "        return pred"
   ]
  },
  {
   "cell_type": "code",
   "execution_count": 30,
   "metadata": {},
   "outputs": [
    {
     "name": "stdout",
     "output_type": "stream",
     "text": [
      "Correct. Amount of parameters is: 66049.\n"
     ]
    }
   ],
   "source": [
    "tests.test_classifier_head(ClassifierHead)"
   ]
  },
  {
   "cell_type": "markdown",
   "metadata": {},
   "source": [
    "Объединим **Bert**, **MlmHead** и **ClassifierHead** в единую модель:"
   ]
  },
  {
   "cell_type": "code",
   "execution_count": 31,
   "metadata": {},
   "outputs": [],
   "source": [
    "class BertModel(nn.Module):\n",
    "\n",
    "    def __init__(\n",
    "            self, \n",
    "            hidden_size, \n",
    "            vocab_size,\n",
    "            max_seqlen,\n",
    "            num_hidden_layers,\n",
    "            intermediate_size,\n",
    "            num_attention_heads,\n",
    "            act_func='relu',\n",
    "            input_dropout_prob=0.,\n",
    "            hidden_dropout_prob=0., \n",
    "            attention_probs_dropout_prob=0.,\n",
    "            eps=1e-3, \n",
    "            ignore_index=-100\n",
    "    ):\n",
    "        super().__init__()\n",
    "        self._backbone = Bert(\n",
    "            vocab_size=vocab_size,\n",
    "            max_seqlen=max_seqlen,\n",
    "            hidden_size=hidden_size,\n",
    "            num_hidden_layers=num_hidden_layers,\n",
    "            intermediate_size=intermediate_size, \n",
    "            num_attention_heads=num_attention_heads, \n",
    "            input_dropout_prob=input_dropout_prob,\n",
    "            dropout_prob=hidden_dropout_prob, \n",
    "            attention_probs_dropout_prob=attention_probs_dropout_prob,\n",
    "            act_func=act_func,\n",
    "            eps=eps\n",
    "        )\n",
    "        self._mlm_head = MlmHead(\n",
    "            hidden_size, \n",
    "            vocab_size, \n",
    "            act_func, \n",
    "            eps, \n",
    "            ignore_index, \n",
    "            input_embeddings=self._backbone.get_token_embeddings()\n",
    "        )\n",
    "        self._classifier_head = ClassifierHead(\n",
    "            hidden_size, \n",
    "            hidden_dropout_prob=hidden_dropout_prob, \n",
    "            num_classes=1\n",
    "        )\n",
    "\n",
    "    def forward(self, x, attention_mask, labels, permuted, token_type_ids=None):\n",
    "        hidden_states = self._backbone(x, attention_mask, token_type_ids)\n",
    "        mlm_loss = self._mlm_head(hidden_states, labels)\n",
    "        sop_loss = self._classifier_head(hidden_states, permuted)\n",
    "        # в оригинальном BERT лоссы MLP и NSP используются с равными весами\n",
    "        return 0.5 * mlm_loss + 0.5 * sop_loss, {'MLM': mlm_loss, 'SOP': sop_loss}"
   ]
  },
  {
   "cell_type": "markdown",
   "metadata": {},
   "source": [
    "Значения гиперпараметров:\n",
    "* для успешного выполнения задания достаточно архитектуры bert-mini: `hidden_size=256`, `num_hidden_layers=4`, в качестве функции активации можно использовать `gelu`\n",
    "* стандартные практики: `intermediate_size = 4 * hidden_size`, `num_attention_heads = hidden_size // 64`\n",
    "* в оригинальной статье везде dropout равен 0.1, но для bert-mini модели можно попробовать значения поменьше. Вопрос - почему?"
   ]
  },
  {
   "cell_type": "code",
   "execution_count": 32,
   "metadata": {
    "scrolled": true
   },
   "outputs": [],
   "source": [
    "model = BertModel(\n",
    "    ###########################\n",
    "    ### ╰( ͡° ͜ʖ ͡° )つ──☆*:・ﾟ\n",
    "    ###########################\n",
    "    hidden_size=256, \n",
    "    vocab_size=tokenizer.vocab_size,\n",
    "    max_seqlen=30,\n",
    "    num_hidden_layers=4,\n",
    "    intermediate_size=1024,\n",
    "    num_attention_heads=4,\n",
    "    act_func='gelu',\n",
    "    input_dropout_prob=0.05,\n",
    "    hidden_dropout_prob=0.05, \n",
    "    attention_probs_dropout_prob=0.05,\n",
    "    eps=1e-3, \n",
    "    ignore_index=-100\n",
    ")"
   ]
  },
  {
   "cell_type": "code",
   "execution_count": 33,
   "metadata": {},
   "outputs": [
    {
     "data": {
      "text/plain": [
       "===========================================================================\n",
       "Layer (type:depth-idx)                             Param #\n",
       "===========================================================================\n",
       "BertModel                                          --\n",
       "├─Bert: 1-1                                        --\n",
       "│    └─BertEmbeddings: 2-1                         --\n",
       "│    │    └─Embedding: 3-1                         7,680,000\n",
       "│    │    └─Embedding: 3-2                         7,680\n",
       "│    │    └─Embedding: 3-3                         512\n",
       "│    │    └─LayerNorm: 3-4                         512\n",
       "│    │    └─Dropout: 3-5                           --\n",
       "│    └─ModuleList: 2-2                             --\n",
       "│    │    └─BertLayer: 3-6                         789,760\n",
       "│    │    └─BertLayer: 3-7                         789,760\n",
       "│    │    └─BertLayer: 3-8                         789,760\n",
       "│    │    └─BertLayer: 3-9                         789,760\n",
       "├─MlmHead: 1-2                                     --\n",
       "│    └─Sequential: 2-3                             --\n",
       "│    │    └─Linear: 3-10                           65,792\n",
       "│    │    └─GELU: 3-11                             --\n",
       "│    │    └─LayerNorm: 3-12                        512\n",
       "│    └─Linear: 2-4                                 7,710,000\n",
       "│    └─CrossEntropyLoss: 2-5                       --\n",
       "├─ClassifierHead: 1-3                              --\n",
       "│    └─Sequential: 2-6                             --\n",
       "│    │    └─Linear: 3-13                           65,792\n",
       "│    │    └─Tanh: 3-14                             --\n",
       "│    │    └─Dropout: 3-15                          --\n",
       "│    │    └─Linear: 3-16                           257\n",
       "===========================================================================\n",
       "Total params: 18,690,097\n",
       "Trainable params: 18,690,097\n",
       "Non-trainable params: 0\n",
       "==========================================================================="
      ]
     },
     "execution_count": 33,
     "metadata": {},
     "output_type": "execute_result"
    }
   ],
   "source": [
    "from torchinfo import summary\n",
    "summary(model)"
   ]
  },
  {
   "cell_type": "markdown",
   "metadata": {},
   "source": [
    "**Вопросы:**\n",
    "1. Какая часть модели содержит наибольшее количество параметров? Эмбеддинги, аттеншн, полносвязные слои, голова?\n",
    "2. Зачем объединять параметры в голове и параметры матрицы эмбеддингов?\n",
    "\n",
    "**Ваши ответы напишите здесь:**\n",
    "1. Судя по саммари сверху больше всего весов в голове (хотя в эмбеддингах не шибко меньше). Это потому, что у нас и там и там есть огромная матрица размера $d \\times |V|$, где $|V|$ --- размер словаря, которая сжирает дофига параметров.\n",
    "2. Как было замечено раннее у нас эта матрица занимает очень много весов. Тем более голова на выходе нужна только для предобучения, потом мы её выкинем, поэтому нет смысла тратить на её обучение ресурсы. Плюс таким образом мы можем довольно хорошо обучить начальную матрицу эмбеддингов. Процесс обучения будет намного стабильнее."
   ]
  },
  {
   "cell_type": "markdown",
   "metadata": {},
   "source": [
    "## Часть 3. Оптимизация (1 балл)"
   ]
  },
  {
   "cell_type": "markdown",
   "metadata": {},
   "source": [
    "Для оптимизации будем использовать **AdamW**, отличия которого от ванильного **Adam** можно почитать, например, [вот здесь](https://towardsdatascience.com/why-adamw-matters-736223f31b5d)\n",
    "\n",
    "Параметры модели, передаваемые в оптимизатор, следует поделить на две группы с помощью `model.named_parameters()`:\n",
    "1. Все `bias` и `layernorm` слои, присутствующие в модели (их можно выцепить по названию). Для них $l_2$ регуляризацию стоит выключить, т.е. поставить `weight_decay=0`\n",
    "2. Оставшиеся слои, для которых регуляризация не нужна.\n",
    "\n",
    "\n",
    "**Вопрос:** почему $l_2$ регуляризацию не используют для bias'ов? Для layernorm?"
   ]
  },
  {
   "cell_type": "code",
   "execution_count": 34,
   "metadata": {},
   "outputs": [],
   "source": [
    "def get_optimizer(model, weight_decay=0.01):\n",
    "    \"\"\"\n",
    "    model: инициализированная модель\n",
    "    weight_decay: коэффициент l2 регуляризации\n",
    "\n",
    "    returns: оптимизатор\n",
    "    \"\"\"\n",
    "    decayed_parameters, not_decayed_parameters = [], []\n",
    "    \n",
    "    for name, param in model.named_parameters():\n",
    "        if 'bias' in name or 'LayerNorm.weight' in name:\n",
    "            not_decayed_parameters.append(param)\n",
    "        else:\n",
    "            decayed_parameters.append(param)\n",
    "    \n",
    "    grouped_parameters = [\n",
    "        {'params': decayed_parameters, 'weight_decay': weight_decay},\n",
    "        {'params': not_decayed_parameters, 'weight_decay': 0.}\n",
    "    ]\n",
    "\n",
    "    return torch.optim.AdamW(grouped_parameters)"
   ]
  },
  {
   "cell_type": "code",
   "execution_count": 35,
   "metadata": {},
   "outputs": [],
   "source": [
    "optimizer = get_optimizer(model)"
   ]
  },
  {
   "cell_type": "code",
   "execution_count": 36,
   "metadata": {},
   "outputs": [
    {
     "name": "stdout",
     "output_type": "stream",
     "text": [
      "Correct.\n"
     ]
    }
   ],
   "source": [
    "tests.test_optimizer(get_optimizer, model)"
   ]
  },
  {
   "cell_type": "markdown",
   "metadata": {},
   "source": [
    "Как выглядит типичное расписание lr для трансформеров:\n",
    "\n",
    "<img src=\"images/lr.png\" width=300 height=300 />\n",
    "\n",
    "Почему мы сразу не стартуем с большого значения lr? Для больших архитектур трансформера модель разойдется, произойдет взрыв градиентов. Постепенно же увеличить lr до большого значения — можно. Процедуру линейного увеличения lr до какого-то пикового значения называют `linear warmup`.\n",
    "\n",
    "Реализуйте такое \"треугольное\" расписание для learning rate в предложенном шаблоне.\n",
    "\n",
    "**Вопрос:** а зачем нужно убывание learning rate?"
   ]
  },
  {
   "cell_type": "code",
   "execution_count": 37,
   "metadata": {},
   "outputs": [],
   "source": [
    "class Scheduler:\n",
    "    \n",
    "    def __init__(\n",
    "            self, \n",
    "            optimizer, \n",
    "            init_lr, \n",
    "            peak_lr, \n",
    "            final_lr, \n",
    "            num_warmup_steps, \n",
    "            num_training_steps\n",
    "    ):\n",
    "        \"\"\"\n",
    "            optimizer: оптимизатор\n",
    "            init_lr: начальное значение learning rate\n",
    "            peak_lr: пиковое значение learning rate\n",
    "            final_lr: финальное значение lr\n",
    "            num_warmup_steps: количество шагов разогрева (сколько шагов идем от начального до пикового значения)\n",
    "            num_training_steps: количество шагов обучения (количество батчей x количество эпох)\n",
    "            \n",
    "        \"\"\"\n",
    "        self._optimizer = optimizer\n",
    "        self._step = 0\n",
    "        ###########################\n",
    "        ### ╰( ͡° ͜ʖ ͡° )つ──☆*:・ﾟ\n",
    "        ###########################\n",
    "        self._init_lr = init_lr\n",
    "        self.lr = init_lr\n",
    "        self._peak_lr = peak_lr\n",
    "        self._final_lr = final_lr\n",
    "        self._num_warmup_steps = num_warmup_steps\n",
    "        self._num_training_steps = num_training_steps\n",
    "\n",
    "        for param_group in self._optimizer.param_groups:\n",
    "            param_group['lr'] = init_lr\n",
    "        \n",
    "    def step(self):\n",
    "        \"\"\"\n",
    "            Меняет learning rate для оптимизатора\n",
    "            \n",
    "            Поменять learning rate для группы параметров в оптимизаторе можно присваиванием вида param_group['lr'] = lr\n",
    "        \"\"\"\n",
    "        ###########################\n",
    "        ### ╰( ͡° ͜ʖ ͡° )つ──☆*:・ﾟ\n",
    "        ###########################\n",
    "        \n",
    "        if self._step < self._num_warmup_steps:\n",
    "            self.lr += (self._peak_lr - self._init_lr) / self._num_warmup_steps\n",
    "        else:\n",
    "            self.lr -= (self._peak_lr - self._final_lr) / (self._num_training_steps - self._num_warmup_steps)\n",
    "        \n",
    "        # Обновляем learning rate для каждой группы параметров\n",
    "        for param_group in self._optimizer.param_groups:\n",
    "            param_group['lr'] = self.lr\n",
    "        \n",
    "        self._step += 1\n",
    "        \n",
    "    def get_last_lr(self):\n",
    "        \"\"\"\n",
    "            returns: текущий learning rate оптимизатора. Нужно для логгирования\n",
    "        \"\"\"\n",
    "        return [param_group['lr'] for param_group in self._optimizer.param_groups]"
   ]
  },
  {
   "cell_type": "code",
   "execution_count": 38,
   "metadata": {},
   "outputs": [
    {
     "name": "stdout",
     "output_type": "stream",
     "text": [
      "Correct.\n"
     ]
    }
   ],
   "source": [
    "tests.test_scheduler(Scheduler, get_optimizer, model)"
   ]
  },
  {
   "cell_type": "markdown",
   "metadata": {},
   "source": [
    "От запуска обучения нас отделяет только создание `Trainer`. От объектов класса `Trainer` требуется, чтобы:\n",
    "* логгировался лосс на каждом батче (`torch.utils.tensorboard.SummaryWriter`, `writer.add_scalar`)\n",
    "* клипались и логгировались нормы градиентов при каждом шаге спуска (`orch.nn.utils.clip_grad_norm_` возвращает нормы градиентов)\n",
    "* логгировались значения learning rate\n",
    "* была поддержана аккумуляция градиентов, нужная для эмуляции больших батчей\n",
    "\n",
    "При предобучении не нужно использовать какую-либо форму валидации, достаточно смотреть на батч лосс.\n",
    "\n",
    "Предлагается также для ускорения обучения использовать mixed precision из библиотеки `apex`:\n",
    "* перед обучением необходимо вызвать строчку вида `model, optimizer = amp.initialize(model, optimizer, opt_level='O1')`\n",
    "* при обучении `.backward()` надо делать в контекстном менеджере:     \n",
    "   `with amp.scale_loss(loss, optimizer) as scaled_loss: scaled_loss.backward()`\n",
    "        \n",
    "Что такое аккумуляция градиентов:\n",
    "* При использовании Adam в видеопамяти необходимо хранить градиенты и квадраты частных производных\n",
    "* При подсчете градиента по очередному батчу необязательно сразу делать шаг спуска, можно запомнить градиент, а затем посчитать градиент по другому батчу c теми же параметрами модели\n",
    "* Теперь эти два градиента можно сложить и получить градиент, который был посчитан как будто по одному большому батчу (составленному из этих двух). Сэмулировали большой батч. В данном случае количество шагов аккумуляции равно двум.\n",
    "* В данном случае количество шагов аккумуляции равно двум.\n",
    "\n",
    "Зачем нужны большие батчи? Обучение быстрее, оценки градиента точнее, позволяет увеличивать learning rate. Например, при предобучении авторы RoBERTA значительно увеличили размер батча по сравнению с ванильным BERT и получили прирост к качеству решения целевых задач."
   ]
  },
  {
   "cell_type": "code",
   "execution_count": 39,
   "metadata": {},
   "outputs": [],
   "source": [
    "import os\n",
    "import shutil\n",
    "from collections import defaultdict\n",
    "\n",
    "from apex import amp\n",
    "\n",
    "import torch\n",
    "from torch.utils.tensorboard import SummaryWriter\n",
    "\n",
    "\n",
    "class Trainer:\n",
    "\n",
    "    def __init__(\n",
    "            self, \n",
    "            model, \n",
    "            optimizer, \n",
    "            scheduler,\n",
    "            pad_token_id,\n",
    "            device,\n",
    "            num_accum_steps=1,\n",
    "            logdir=None,\n",
    "            max_grad_norm=None,\n",
    "    ):\n",
    "        \"\"\"\n",
    "            model: объект класса BertModel\n",
    "            optimizer: оптимизатор\n",
    "            scheduler: расписание learning rate. Нужно вызывать scheduler.step() ПОСЛЕ optimizer.step()\n",
    "            pad_token_id: индекс паддинга. Нужен для создания attention mask\n",
    "            device: девайс (cpu или cuda), на котором надо производить вычисления\n",
    "            num_accum_steps: количество шагов аккумуляции\n",
    "            logdir: директория для записи логов\n",
    "            max_grad_norm: максимум нормы градиентов, для клиппинга\n",
    "        \"\"\"\n",
    "        ###########################\n",
    "        ### ╰( ͡° ͜ʖ ͡° )つ──☆*:・ﾟ\n",
    "        ###########################\n",
    "        self.model = model.to(device)\n",
    "        self.optimizer = optimizer\n",
    "        self.scheduler = scheduler\n",
    "        self.pad_token_id = pad_token_id\n",
    "        self.device = device\n",
    "        self.num_accum_steps = num_accum_steps\n",
    "        self.max_grad_norm = max_grad_norm\n",
    "        self._n_epoch = 0\n",
    "        self.step = 0\n",
    "        self.global_step = 0\n",
    "        \n",
    "        self.writer = SummaryWriter(logdir) if logdir else None\n",
    "        self.model.to(device)\n",
    "        \n",
    "    def train(self, dataloader, n_epochs):\n",
    "        for epoch in range(n_epochs):\n",
    "            self._train_step(dataloader)\n",
    "            self._n_epoch += 1\n",
    "\n",
    "    def _train_step(self, dataloader):\n",
    "        \"\"\"\n",
    "            dataloader: объект класса DataLoader для обучения\n",
    "        \"\"\"\n",
    "        ###########################\n",
    "        ### ╰( ͡° ͜ʖ ͡° )つ──☆*:・ﾟ\n",
    "        ###########################\n",
    "        self.model.train()\n",
    "        \n",
    "        loss_accum = 0.0\n",
    "        self.optimizer.zero_grad()\n",
    "        for step, batch in tqdm(enumerate(dataloader), ascii=True):\n",
    "            input_ids, token_type_ids, labels, permuted = batch\n",
    "            input_ids = input_ids.int().to(self.device)\n",
    "            token_type_ids = token_type_ids.int().to(self.device)\n",
    "            labels = labels.long().to(self.device)\n",
    "            permuted = permuted.to(self.device)\n",
    "            attention_mask = (input_ids != self.pad_token_id).float()\n",
    "\n",
    "            loss, dict_loss = self.model(input_ids, attention_mask, labels, permuted, token_type_ids)\n",
    "            loss_accum += loss / self.num_accum_steps\n",
    "\n",
    "            if (step + 1) % self.num_accum_steps == 0:\n",
    "                # with amp.scale_loss(loss_accum, self.optimizer) as scaled_loss:\n",
    "                #     scaled_loss.backward()\n",
    "                loss_accum.backward()\n",
    "                \n",
    "                if self.max_grad_norm is not None:\n",
    "                    grad_norm = torch.nn.utils.clip_grad_norm_(self.model.parameters(), self.max_grad_norm)\n",
    "                    self.writer.add_scalar(\"Gradient Norm\", grad_norm.detach().cpu(), self.global_step)\n",
    "                \n",
    "                self.optimizer.step()\n",
    "                self.scheduler.step()\n",
    "                \n",
    "                self.optimizer.zero_grad()\n",
    "                loss_accum = 0\n",
    "                self.global_step += 1\n",
    "                \n",
    "            self.writer.add_scalar(\"Loss train\", loss.item(), self.step)\n",
    "            self.writer.add_scalar(\"MLM Loss train\", dict_loss[\"MLM\"].item(), self.step)\n",
    "            self.writer.add_scalar(\"SOP Loss train\", dict_loss[\"SOP\"].item(), self.step)\n",
    "            self.writer.add_scalar(\"Learning Rate\", self.optimizer.param_groups[0]['lr'], self.global_step)\n",
    "\n",
    "            self.step += 1"
   ]
  },
  {
   "cell_type": "markdown",
   "metadata": {},
   "source": [
    "Обучите и сохраните предобученную модель с помощью `torch.save`. \n",
    "\n",
    "**Важно:** тензорборд логи успешного обучения необходимо сложить в архив и приложить вместе с решенным заданием.\n",
    "\n",
    "Про гиперпараметры:\n",
    "* `weight_decay` - $0.1, 0.01, 0.001$ и т.д.\n",
    "* расписание lr - bert-mini не очень чувствителен к линейному вормапу, поэтому существенное влияние оказывают только пиковое и финальное значение lr. Пиковое значение стоит поискать где-то в масштабе 1e-3 - 1e-4, финальный lr можно сделать очень маленьким.\n",
    "* конкретное значение для клиппинга нормы особо ни на что не влияет, как правило (и в оригинальной статье тоже) его всегда ставят единицой"
   ]
  },
  {
   "cell_type": "code",
   "execution_count": 40,
   "metadata": {},
   "outputs": [],
   "source": [
    "assert torch.cuda.is_available()\n",
    "device = torch.device('cuda')"
   ]
  },
  {
   "cell_type": "code",
   "execution_count": 41,
   "metadata": {
    "scrolled": true
   },
   "outputs": [
    {
     "data": {
      "text/plain": [
       "BertModel(\n",
       "  (_backbone): Bert(\n",
       "    (_embeddings): BertEmbeddings(\n",
       "      (_token_embeddings): Embedding(30000, 256)\n",
       "      (position_embeddings): Embedding(32, 256)\n",
       "      (sentence_embeddings): Embedding(2, 256)\n",
       "      (layer_norm): LayerNorm((256,), eps=0.001, elementwise_affine=True)\n",
       "      (dropout): Dropout(p=0.1, inplace=False)\n",
       "    )\n",
       "    (encoder_layers): ModuleList(\n",
       "      (0-3): 4 x BertLayer(\n",
       "        (_multihead_attention): MultiHeadSelfAttention(\n",
       "          (qkv): Linear(in_features=256, out_features=768, bias=True)\n",
       "          (attn_dropout): Dropout(p=0.1, inplace=False)\n",
       "          (o_proj): Linear(in_features=256, out_features=256, bias=True)\n",
       "          (out_dropout): Dropout(p=0.1, inplace=False)\n",
       "          (layer_norm): LayerNorm((256,), eps=0.001, elementwise_affine=True)\n",
       "        )\n",
       "        (_feedforward): FeedForward(\n",
       "          (mlp): Sequential(\n",
       "            (0): Linear(in_features=256, out_features=1024, bias=True)\n",
       "            (1): GELU(approximate='none')\n",
       "            (2): Linear(in_features=1024, out_features=256, bias=True)\n",
       "            (3): Dropout(p=0.1, inplace=False)\n",
       "          )\n",
       "          (layer_norm): LayerNorm((256,), eps=0.001, elementwise_affine=True)\n",
       "        )\n",
       "      )\n",
       "    )\n",
       "  )\n",
       "  (_mlm_head): MlmHead(\n",
       "    (mlp): Sequential(\n",
       "      (0): Linear(in_features=256, out_features=256, bias=True)\n",
       "      (1): GELU(approximate='none')\n",
       "      (2): LayerNorm((256,), eps=0.001, elementwise_affine=True)\n",
       "    )\n",
       "    (decoder): Linear(in_features=256, out_features=30000, bias=True)\n",
       "    (criterion): CrossEntropyLoss()\n",
       "  )\n",
       "  (_classifier_head): ClassifierHead(\n",
       "    (mlp): Sequential(\n",
       "      (0): Linear(in_features=256, out_features=256, bias=True)\n",
       "      (1): Tanh()\n",
       "      (2): Dropout(p=0.1, inplace=False)\n",
       "      (3): Linear(in_features=256, out_features=1, bias=True)\n",
       "    )\n",
       "  )\n",
       ")"
      ]
     },
     "execution_count": 41,
     "metadata": {},
     "output_type": "execute_result"
    }
   ],
   "source": [
    "model = BertModel(\n",
    "    hidden_size=256, \n",
    "    vocab_size=tokenizer.vocab_size,\n",
    "    max_seqlen=MAXLEN+2,\n",
    "    num_hidden_layers=4,\n",
    "    intermediate_size=1024,\n",
    "    num_attention_heads=4,\n",
    "    act_func='gelu',\n",
    "    input_dropout_prob=0.1,\n",
    "    hidden_dropout_prob=0.1, \n",
    "    attention_probs_dropout_prob=0.1,\n",
    "    eps=1e-3, \n",
    "    ignore_index=-100,\n",
    ").to(device)\n",
    "model.apply(init_layer)"
   ]
  },
  {
   "cell_type": "code",
   "execution_count": 42,
   "metadata": {},
   "outputs": [],
   "source": [
    "optimizer = get_optimizer(model, weight_decay=1e-2)"
   ]
  },
  {
   "cell_type": "code",
   "execution_count": 43,
   "metadata": {},
   "outputs": [
    {
     "data": {
      "text/plain": [
       "2668"
      ]
     },
     "execution_count": 43,
     "metadata": {},
     "output_type": "execute_result"
    }
   ],
   "source": [
    "len(dl)"
   ]
  },
  {
   "cell_type": "code",
   "execution_count": 44,
   "metadata": {},
   "outputs": [],
   "source": [
    "n_epochs = 30\n",
    "\n",
    "scheduler = Scheduler(\n",
    "    optimizer=optimizer, \n",
    "    init_lr=1e-5, \n",
    "    peak_lr=1e-4, \n",
    "    final_lr=1e-8, \n",
    "    num_warmup_steps=int(len(dl)*0.1), \n",
    "    num_training_steps=len(dl)*n_epochs // 2\n",
    ")"
   ]
  },
  {
   "cell_type": "code",
   "execution_count": 45,
   "metadata": {},
   "outputs": [],
   "source": [
    "# model, optimizer = amp.initialize(model, optimizer, opt_level='O1')"
   ]
  },
  {
   "cell_type": "code",
   "execution_count": 46,
   "metadata": {},
   "outputs": [],
   "source": [
    "trainer = Trainer(\n",
    "    ###########################\n",
    "    ### ╰( ͡° ͜ʖ ͡° )つ──☆*:・ﾟ\n",
    "    ###########################\n",
    "    model=model, \n",
    "    optimizer=optimizer,\n",
    "    scheduler=scheduler,\n",
    "    pad_token_id=tokenizer.pad_token_id,\n",
    "    device=device,\n",
    "    num_accum_steps=2,\n",
    "    logdir=\"logs_pretrain\",\n",
    "    max_grad_norm=1,\n",
    ")"
   ]
  },
  {
   "cell_type": "code",
   "execution_count": 47,
   "metadata": {},
   "outputs": [
    {
     "name": "stderr",
     "output_type": "stream",
     "text": [
      "2668it [02:16, 19.53it/s]\n",
      "2668it [02:16, 19.54it/s]\n",
      "2668it [02:14, 19.83it/s]\n",
      "2668it [02:18, 19.25it/s]\n",
      "2668it [02:18, 19.32it/s]\n",
      "2668it [02:17, 19.42it/s]\n",
      "2668it [02:15, 19.70it/s]\n",
      "2668it [02:20, 19.00it/s]\n",
      "2668it [02:20, 18.98it/s]\n",
      "2668it [02:19, 19.16it/s]\n",
      "2668it [02:20, 18.94it/s]\n",
      "2668it [02:18, 19.30it/s]\n",
      "2668it [02:18, 19.26it/s]\n",
      "2668it [02:18, 19.33it/s]\n",
      "2668it [02:18, 19.29it/s]\n",
      "2668it [02:17, 19.36it/s]\n",
      "2668it [02:17, 19.41it/s]\n",
      "2668it [02:18, 19.31it/s]\n",
      "2668it [02:18, 19.33it/s]\n",
      "2668it [02:23, 18.56it/s]\n",
      "2668it [02:18, 19.24it/s]\n",
      "2668it [02:17, 19.38it/s]\n",
      "2668it [02:16, 19.50it/s]\n",
      "2668it [02:18, 19.31it/s]\n",
      "2668it [02:17, 19.42it/s]\n",
      "2668it [02:18, 19.28it/s]\n",
      "2668it [02:17, 19.36it/s]\n",
      "2668it [02:17, 19.39it/s]\n",
      "2668it [02:22, 18.71it/s]\n",
      "2668it [02:16, 19.49it/s]\n"
     ]
    }
   ],
   "source": [
    "trainer.train(dl, n_epochs=n_epochs)\n",
    "    \n",
    "torch.save(\n",
    "    model.state_dict(),\n",
    "    'pretrained_weights.pt'\n",
    ")"
   ]
  },
  {
   "cell_type": "markdown",
   "metadata": {},
   "source": [
    "После предобучения вам придется перезапустить ноутбук и снова перепрогнать блоки, нужные для дообучения. Использование apex'а ломает обучение других моделей (которые не передавались в `amp.initialize`) в одном запуске. Если не перезапустить, скор получится гораздо хуже."
   ]
  },
  {
   "cell_type": "markdown",
   "metadata": {},
   "source": [
    "## Часть 4. Дообучение (5 баллов)\n",
    "\n",
    "Самая сложная часть уже позади, осталось чуть-чуть :)\n",
    "\n",
    "Так как для дообучения доступно гораздо меньше данных, оно занимает гораздо меньше времени."
   ]
  },
  {
   "cell_type": "code",
   "execution_count": 48,
   "metadata": {},
   "outputs": [],
   "source": [
    "train = data.loc[data['split'] == 'train'].reset_index(drop=True).copy()\n",
    "val = data.loc[data['split'] == 'val'].reset_index(drop=True).copy()\n",
    "test = data.loc[data['split'] == 'test'].reset_index(drop=True).copy()"
   ]
  },
  {
   "cell_type": "code",
   "execution_count": 49,
   "metadata": {},
   "outputs": [
    {
     "data": {
      "text/plain": [
       "((38608, 3), (4826, 3), (4827, 3), (3155764, 3))"
      ]
     },
     "execution_count": 49,
     "metadata": {},
     "output_type": "execute_result"
    }
   ],
   "source": [
    "train.shape, val.shape, test.shape, data.shape"
   ]
  },
  {
   "cell_type": "markdown",
   "metadata": {},
   "source": [
    "Датасет для дообучения выглядит стандартно: нужно токенизировать и запомнить тексты и соответствующие им метки, и затем в методе `__getitem__` их выдавать:"
   ]
  },
  {
   "cell_type": "code",
   "execution_count": 50,
   "metadata": {},
   "outputs": [],
   "source": [
    "class FinetuneDataset(Dataset):\n",
    "    \n",
    "    def __init__(\n",
    "            self, \n",
    "            texts, \n",
    "            targets, \n",
    "            tokenizer,\n",
    "            maxlen, \n",
    "            presort=False,\n",
    "            verbose=True,\n",
    "    ):\n",
    "        \"\"\"\n",
    "            texts: list of strings. Тексты чеков\n",
    "            targets: list of ints. Категории товаров\n",
    "            tokenizer: токенизатор\n",
    "            maxlen: максимальная длина текста\n",
    "            presort: отсортировать тексты по длине\n",
    "        \"\"\"\n",
    "        ###########################\n",
    "        ### ╰( ͡° ͜ʖ ͡° )つ──☆*:・ﾟ\n",
    "        ###########################\n",
    "        self._tokenizer = tokenizer\n",
    "        self._maxlen = maxlen\n",
    "        self.verbose = verbose\n",
    "        self.presort = presort\n",
    "\n",
    "        self._texts = []\n",
    "        self._targets = []\n",
    "        for text, target in tqdm(zip(texts, targets), disable = not verbose):\n",
    "            tokens = tokenizer(text)\n",
    "            if len(tokens) <= maxlen:\n",
    "                self._texts.append(tokens)\n",
    "                self._targets.append(target)\n",
    "                \n",
    "        if presort:\n",
    "            sorted_lists = sorted(zip(self._texts, self._targets), key=lambda x: len(x[0]))\n",
    "            self._texts, self._targets = zip(*sorted_lists)\n",
    "            # self._texts.sort(key=len)\n",
    "        \n",
    "    def __len__(self):\n",
    "        return len(self._texts)\n",
    "    \n",
    "    def __getitem__(self, idx):\n",
    "        \"\"\"\n",
    "            returns: input_ids - индексы токенов токенизированного текста, target - категория\n",
    "        \"\"\"\n",
    "        ###########################\n",
    "        ### ╰( ͡° ͜ʖ ͡° )つ──☆*:・ﾟ\n",
    "        ###########################\n",
    "        input_ids, target = self._texts[idx], self._targets[idx]\n",
    "        return input_ids, target"
   ]
  },
  {
   "cell_type": "markdown",
   "metadata": {},
   "source": [
    "Создайте датасеты для обучения и валидации:"
   ]
  },
  {
   "cell_type": "code",
   "execution_count": 51,
   "metadata": {},
   "outputs": [
    {
     "name": "stderr",
     "output_type": "stream",
     "text": [
      "38608it [00:01, 29798.12it/s]\n",
      "4826it [00:00, 29715.70it/s]\n"
     ]
    }
   ],
   "source": [
    "train_ds = FinetuneDataset(\n",
    "    train['text'].values, \n",
    "    train['label'].values, \n",
    "    maxlen=30, \n",
    "    tokenizer=tokenizer\n",
    ")\n",
    "val_ds = FinetuneDataset(\n",
    "    val['text'].values, \n",
    "    val['label'].values, \n",
    "    maxlen=30, \n",
    "    tokenizer=tokenizer, \n",
    "    presort=True\n",
    ")"
   ]
  },
  {
   "cell_type": "markdown",
   "metadata": {},
   "source": [
    "Коллатор для дообучения делает только паддинг и конвертацию таргетов в тензоры:"
   ]
  },
  {
   "cell_type": "code",
   "execution_count": 52,
   "metadata": {},
   "outputs": [],
   "source": [
    "def collate_fn(batch, pad_idx):\n",
    "    ###########################\n",
    "    ### ╰( ͡° ͜ʖ ͡° )つ──☆*:・ﾟ\n",
    "    ###########################\n",
    "    input_ids = []\n",
    "    targets = []\n",
    "    for sample in batch:\n",
    "        text, target = sample\n",
    "        input_ids.append(torch.tensor(text))\n",
    "        targets.append(target)\n",
    "    input_ids_pad = pad_sequence(input_ids, batch_first=True, padding_value=pad_idx)\n",
    "    return input_ids_pad, torch.tensor(targets)"
   ]
  },
  {
   "cell_type": "markdown",
   "metadata": {},
   "source": [
    "Создайте даталоадеры для обучения и валидации:"
   ]
  },
  {
   "cell_type": "code",
   "execution_count": 53,
   "metadata": {},
   "outputs": [],
   "source": [
    "BATCH_SIZE = 64\n",
    "\n",
    "dataloaders = {\n",
    "    'train': DataLoader(\n",
    "        train_ds,\n",
    "        batch_size=BATCH_SIZE, \n",
    "        shuffle=True, \n",
    "        collate_fn=lambda batch: collate_fn(batch, tokenizer.pad_token_id)\n",
    "    ),\n",
    "    'eval': DataLoader(\n",
    "        val_ds,\n",
    "        batch_size=BATCH_SIZE, \n",
    "        shuffle=False, \n",
    "        collate_fn=lambda batch: collate_fn(batch, tokenizer.pad_token_id)\n",
    "    )\n",
    "}"
   ]
  },
  {
   "cell_type": "markdown",
   "metadata": {},
   "source": [
    "В модели теперь отсутствует MLM голова, а вместо SOP задачи голова классификации решает задачу определения категорий товаров."
   ]
  },
  {
   "cell_type": "code",
   "execution_count": 54,
   "metadata": {},
   "outputs": [],
   "source": [
    "class BertFinetuneModel(nn.Module):\n",
    "\n",
    "    def __init__(\n",
    "            self, \n",
    "            hidden_size, \n",
    "            vocab_size, \n",
    "            max_seqlen,\n",
    "            num_hidden_layers,\n",
    "            intermediate_size,\n",
    "            num_attention_heads,\n",
    "            num_classes,\n",
    "            act_func='relu',\n",
    "            input_dropout_prob=0.,\n",
    "            hidden_dropout_prob=0., \n",
    "            attention_probs_dropout_prob=0.,\n",
    "            eps=1e-3\n",
    "    ):\n",
    "        super().__init__()\n",
    "        self._backbone = Bert(\n",
    "            vocab_size=vocab_size,\n",
    "            max_seqlen=max_seqlen,\n",
    "            hidden_size=hidden_size,\n",
    "            num_hidden_layers=num_hidden_layers,\n",
    "            intermediate_size=intermediate_size, \n",
    "            num_attention_heads=num_attention_heads, \n",
    "            input_dropout_prob=input_dropout_prob,\n",
    "            dropout_prob=hidden_dropout_prob, \n",
    "            attention_probs_dropout_prob=attention_probs_dropout_prob,\n",
    "            act_func=act_func,\n",
    "            eps=eps\n",
    "        )\n",
    "        self._classifier_head = ClassifierHead(hidden_size, num_classes, hidden_dropout_prob)\n",
    "\n",
    "    def forward(self, x, attention_mask):\n",
    "        hidden_states = self._backbone(x, attention_mask)\n",
    "        return self._classifier_head(hidden_states)"
   ]
  },
  {
   "cell_type": "markdown",
   "metadata": {},
   "source": [
    "Используйте ту же архитектуру, которую вы выбрали при предобучении. Количество классов - 96:"
   ]
  },
  {
   "cell_type": "code",
   "execution_count": 56,
   "metadata": {
    "scrolled": true
   },
   "outputs": [
    {
     "data": {
      "text/plain": [
       "BertFinetuneModel(\n",
       "  (_backbone): Bert(\n",
       "    (_embeddings): BertEmbeddings(\n",
       "      (_token_embeddings): Embedding(30000, 256)\n",
       "      (position_embeddings): Embedding(32, 256)\n",
       "      (sentence_embeddings): Embedding(2, 256)\n",
       "      (layer_norm): LayerNorm((256,), eps=0.001, elementwise_affine=True)\n",
       "      (dropout): Dropout(p=0.1, inplace=False)\n",
       "    )\n",
       "    (encoder_layers): ModuleList(\n",
       "      (0-3): 4 x BertLayer(\n",
       "        (_multihead_attention): MultiHeadSelfAttention(\n",
       "          (qkv): Linear(in_features=256, out_features=768, bias=True)\n",
       "          (attn_dropout): Dropout(p=0.1, inplace=False)\n",
       "          (o_proj): Linear(in_features=256, out_features=256, bias=True)\n",
       "          (out_dropout): Dropout(p=0.1, inplace=False)\n",
       "          (layer_norm): LayerNorm((256,), eps=0.001, elementwise_affine=True)\n",
       "        )\n",
       "        (_feedforward): FeedForward(\n",
       "          (mlp): Sequential(\n",
       "            (0): Linear(in_features=256, out_features=1024, bias=True)\n",
       "            (1): GELU(approximate='none')\n",
       "            (2): Linear(in_features=1024, out_features=256, bias=True)\n",
       "            (3): Dropout(p=0.1, inplace=False)\n",
       "          )\n",
       "          (layer_norm): LayerNorm((256,), eps=0.001, elementwise_affine=True)\n",
       "        )\n",
       "      )\n",
       "    )\n",
       "  )\n",
       "  (_classifier_head): ClassifierHead(\n",
       "    (mlp): Sequential(\n",
       "      (0): Linear(in_features=256, out_features=256, bias=True)\n",
       "      (1): Tanh()\n",
       "      (2): Dropout(p=0.1, inplace=False)\n",
       "      (3): Linear(in_features=256, out_features=96, bias=True)\n",
       "    )\n",
       "  )\n",
       ")"
      ]
     },
     "execution_count": 56,
     "metadata": {},
     "output_type": "execute_result"
    }
   ],
   "source": [
    "model = BertFinetuneModel(\n",
    "    hidden_size=256, \n",
    "    vocab_size=tokenizer.vocab_size,\n",
    "    max_seqlen=MAXLEN+2,\n",
    "    num_hidden_layers=4,\n",
    "    intermediate_size=1024,\n",
    "    num_attention_heads=4,\n",
    "    num_classes=96,\n",
    "    act_func='gelu',\n",
    "    input_dropout_prob=0.1,\n",
    "    hidden_dropout_prob=0.1, \n",
    "    attention_probs_dropout_prob=0.1,\n",
    "    eps=1e-3, \n",
    ").to(device)\n",
    "model.apply(init_layer)"
   ]
  },
  {
   "cell_type": "markdown",
   "metadata": {},
   "source": [
    "Подгрузить предобученные веса можно с помощью следующей функции:"
   ]
  },
  {
   "cell_type": "code",
   "execution_count": 57,
   "metadata": {},
   "outputs": [
    {
     "name": "stdout",
     "output_type": "stream",
     "text": [
      "Amount of found weights: 55\n"
     ]
    }
   ],
   "source": [
    "def load_weights(self, path):\n",
    "    found = []\n",
    "    with open(path, 'rb') as f:\n",
    "        weights = torch.load(f)\n",
    "    for name, param in weights.items():\n",
    "        if name in self.state_dict():\n",
    "            if param.shape == self.state_dict()[name].shape:\n",
    "                self.state_dict()[name].copy_(param)\n",
    "                found.append(name)\n",
    "\n",
    "    return found\n",
    "\n",
    "found = load_weights(model, 'pretrained_weights.pt')\n",
    "\n",
    "print('Amount of found weights: {}'.format(len(found)))"
   ]
  },
  {
   "cell_type": "markdown",
   "metadata": {},
   "source": [
    "Создайте оптимизатор и расписание лр. Про гиперпараметры:\n",
    "* при дообучении используют маленький batch_size $\\in \\{32, 64\\}$\n",
    "* маленький learning rate:  $\\{1e-5, 2e-5, 4e-5\\}$ для больших моделей, для моделей вида bert-mini можно использовать и побольше: $\\{1e-4, 2e-4, 4e-4\\}$ \n",
    "* финальное значение все также маленькое\n",
    "* вормап можно делать где-то 0.06 от всех шагов обучения\n",
    "* количество эпох для дообучения - больше шести здесь не нужно\n",
    "* weight decay здесь потенциально можно использовать побольше, чем при предобучении"
   ]
  },
  {
   "cell_type": "code",
   "execution_count": 58,
   "metadata": {},
   "outputs": [],
   "source": [
    "optimizer = get_optimizer(model, weight_decay=1e-2)\n",
    "n_epochs = 10\n",
    "\n",
    "scheduler = Scheduler(\n",
    "    optimizer=optimizer, \n",
    "    init_lr=1e-6, \n",
    "    peak_lr=2e-5, \n",
    "    final_lr=1e-9, \n",
    "    num_warmup_steps=int(len(dl)*0.05), \n",
    "    num_training_steps=len(dl)*n_epochs // 2\n",
    ")"
   ]
  },
  {
   "cell_type": "markdown",
   "metadata": {},
   "source": [
    "Осталось создать пайплайн обучения:\n",
    "* apex использовать не нужно, дообучение быстрое и не требует больших батчей\n",
    "* аккумуляция градиентов не нужна т.к. батчи  маленькие\n",
    "* лосс теперь считается вне модели, в Trainer нужно использовать torch.nn.CrossEntropyLoss"
   ]
  },
  {
   "cell_type": "code",
   "execution_count": 59,
   "metadata": {},
   "outputs": [],
   "source": [
    "class FinetuneTrainer:\n",
    "\n",
    "    def __init__(\n",
    "            self, \n",
    "            model, \n",
    "            optimizer, \n",
    "            scheduler,\n",
    "            pad_token_id,\n",
    "            device,\n",
    "            logdir=None,\n",
    "            max_grad_norm=None\n",
    "    ):\n",
    "        \"\"\"\n",
    "            model: объект класса BertModel\n",
    "            optimizer: оптимизатор\n",
    "            scheduler: расписание learning rate. Нужно вызывать scheduler.step() ПОСЛЕ optimizer.step()\n",
    "            pad_token_id: индекс паддинга. Нужен для создания attention mask\n",
    "            device: девайс (cpu или cuda), на котором надо производить вычисления\n",
    "            num_accum_steps: количество шагов аккумуляции\n",
    "            logdir: директория для записи логов\n",
    "            max_grad_norm: максимум нормы градиентов, для клиппинга\n",
    "        \"\"\"\n",
    "        ###########################\n",
    "        ### ╰( ͡° ͜ʖ ͡° )つ──☆*:・ﾟ\n",
    "        ###########################\n",
    "        self.model = model\n",
    "        self.optimizer = optimizer\n",
    "        self.scheduler = scheduler\n",
    "        self.pad_token_id = pad_token_id\n",
    "        self.device = device\n",
    "        self.max_grad_norm = max_grad_norm\n",
    "\n",
    "        self.model = self.model.to(device)\n",
    "        self.writer = SummaryWriter(logdir) if logdir else None\n",
    "        self.criterion = nn.CrossEntropyLoss()\n",
    "        self.step = 0\n",
    "        self._n_epoch = 0\n",
    "\n",
    "    def train(self, dataloaders, n_epochs, scorer=None):\n",
    "        \"\"\"\n",
    "            dataloaders: dict of dataloaders, keys 'train', 'eval' should be present.\n",
    "            n_epochs: int. Num epochs to train for.\n",
    "            scorer: takes trainer, outputs metric name and value as a tuple.\n",
    "        \"\"\"\n",
    "        for epoch in range(n_epochs):\n",
    "            train_loss = self._train_step(dataloaders['train'])\n",
    "            val_loss = self._eval_step(dataloaders['eval'])\n",
    "\n",
    "            if self.writer is not None:\n",
    "                self.writer.add_scalar('eval', val_loss, global_step=self._n_epoch)\n",
    "                \n",
    "                if scorer is not None:\n",
    "                    name, value = scorer(self)\n",
    "                    self.writer.add_scalar(name, value, global_step=self._n_epoch)\n",
    "                    \n",
    "            self._n_epoch += 1\n",
    "\n",
    "    def _train_step(self, dataloader):\n",
    "        \"\"\"\n",
    "            dataloader: training dataloader.\n",
    "            \n",
    "            returns: train_loss\n",
    "        \"\"\"\n",
    "        ###########################\n",
    "        ### ╰( ͡° ͜ʖ ͡° )つ──☆*:・ﾟ\n",
    "        ###########################\n",
    "        self.model.train()\n",
    "        \n",
    "        total_loss = 0.0\n",
    "        for step, batch in tqdm(enumerate(dataloader)):\n",
    "            self.optimizer.zero_grad()\n",
    "            \n",
    "            input_ids, targets = batch\n",
    "            input_ids = input_ids.to(self.device)\n",
    "            targets = targets.to(self.device)\n",
    "            attention_mask = (input_ids != self.pad_token_id).float()\n",
    "\n",
    "            outputs = self.model(input_ids, attention_mask)\n",
    "            loss = self.criterion(outputs, targets)\n",
    "            loss.backward()\n",
    "\n",
    "            _, predicted = torch.max(outputs, 1)\n",
    "            correct = (predicted == targets).sum().item()\n",
    "            accuracy = correct / len(targets)\n",
    "                \n",
    "            if self.max_grad_norm is not None:\n",
    "                grad_norm = torch.nn.utils.clip_grad_norm_(self.model.parameters(), self.max_grad_norm)\n",
    "                self.writer.add_scalar(\"Gradient Norm\", grad_norm.detach().cpu(), self.step)\n",
    "                \n",
    "            self.optimizer.step()\n",
    "            self.scheduler.step()\n",
    "                \n",
    "            self.writer.add_scalar(\"Loss train\", loss.item(), self.step)\n",
    "            self.writer.add_scalar(\"Accuracy train\", accuracy, self.step)\n",
    "            self.writer.add_scalar(\"Learning Rate\", self.optimizer.param_groups[0]['lr'], self.step)\n",
    "\n",
    "            self.step += 1\n",
    "            total_loss += loss.item()\n",
    "        return total_loss / len(dataloader)\n",
    "\n",
    "\n",
    "    def _eval_step(self, dataloader):\n",
    "        \"\"\"\n",
    "            dataloader: evaluation dataloader.\n",
    "            \n",
    "            returns: eval loss\n",
    "        \"\"\"\n",
    "        ###########################\n",
    "        ### ╰( ͡° ͜ʖ ͡° )つ──☆*:・ﾟ\n",
    "        ###########################\n",
    "        model.eval()\n",
    "        total_loss = 0.0\n",
    "        predicted_all, targets_all = np.array([]), np.array([])\n",
    "        with torch.no_grad():\n",
    "            for batch in dataloader:\n",
    "                input_ids, targets = batch\n",
    "                input_ids = input_ids.to(self.device)\n",
    "                targets = targets.to(self.device)\n",
    "                attention_mask = (input_ids != self.pad_token_id).float()\n",
    "    \n",
    "                outputs = self.model(input_ids, attention_mask)\n",
    "                loss = self.criterion(outputs, targets)\n",
    "                \n",
    "                total_loss += loss.item()\n",
    "                _, predicted = torch.max(outputs, 1)\n",
    "                targets_all = np.append(targets_all, targets.detach().cpu().numpy())\n",
    "                predicted_all = np.append(predicted_all, predicted.detach().cpu().numpy())\n",
    "        \n",
    "        correct = (predicted_all == targets_all).sum()\n",
    "        accuracy = correct / len(targets_all)\n",
    "        self.writer.add_scalar(\"Accuracy val\", accuracy, self._n_epoch)\n",
    "        return total_loss / len(dataloader)\n",
    "        \n",
    "    def predict(self, dataloader):\n",
    "        \"\"\"\n",
    "            dataloader: inference dataloader. Should not have targets.\n",
    "            \n",
    "            returns: np.array c предсказанными категориями\n",
    "        \"\"\"\n",
    "        ###########################\n",
    "        ### ╰( ͡° ͜ʖ ͡° )つ──☆*:・ﾟ\n",
    "        ###########################\n",
    "        predicted_all = np.array([])\n",
    "        for input_ids in dataloader:\n",
    "            input_ids = input_ids.to(self.device)\n",
    "            attention_mask = (input_ids != self.pad_token_id).float()\n",
    "\n",
    "            outputs = self.model(input_ids, attention_mask)\n",
    "            _, predicted = torch.max(outputs, 1)\n",
    "            predicted_all = np.append(predicted_all, predicted.detach().cpu().numpy())\n",
    "        return predicted_all"
   ]
  },
  {
   "cell_type": "markdown",
   "metadata": {},
   "source": [
    "Для мониторинга целевой метрики используйте предоставленный scorer:"
   ]
  },
  {
   "cell_type": "code",
   "execution_count": 60,
   "metadata": {},
   "outputs": [],
   "source": [
    "from sklearn.metrics import f1_score\n",
    "\n",
    "\n",
    "class InferenceDataset(Dataset):\n",
    "    \n",
    "    def __init__(self, texts, maxlen, tokenizer):\n",
    "        \"\"\"\n",
    "            texts: list of str. Сырые тексты чеков\n",
    "            maxlen: максимальная длина текста\n",
    "            tokenizer: токенизатор\n",
    "        \"\"\"\n",
    "        self._texts = [tokenizer(text) if tokenizer is not None else text for text in texts]\n",
    "        self._maxlen = maxlen\n",
    "        \n",
    "    def __len__(self):\n",
    "        return len(self._texts)\n",
    "    \n",
    "    def __getitem__(self, idx):\n",
    "        \"\"\"\n",
    "            returns: тензор из индексов токенов токенизированного текста\n",
    "        \"\"\"\n",
    "        text = self._texts[idx]\n",
    "        if self._maxlen is not None:\n",
    "            text = text[:self._maxlen]\n",
    "        return torch.tensor(text, dtype=torch.long)\n",
    "    \n",
    "def make_scorer(texts, targets, tokenizer, maxlen):\n",
    "    inference_ds = InferenceDataset(texts, maxlen=maxlen, tokenizer=tokenizer)\n",
    "    inference_dl = DataLoader(inference_ds, batch_size=32, shuffle=False, collate_fn=inference_collate_fn)\n",
    "    def get_score(trainer):\n",
    "        preds = trainer.predict(inference_dl)\n",
    "        return 'f1', f1_score(targets, preds, average='weighted')\n",
    "    return get_score\n",
    "\n",
    "\n",
    "inference_collate_fn = lambda x: pad_sequence(x, batch_first=True, padding_value=tokenizer.pad_token_id)\n",
    "\n",
    "val_scorer = make_scorer(val['text'].values, val['label'].values, tokenizer, maxlen=30)"
   ]
  },
  {
   "cell_type": "markdown",
   "metadata": {},
   "source": [
    "### Инициализация претрейном, файн-тюн 1 эпоха"
   ]
  },
  {
   "cell_type": "code",
   "execution_count": 91,
   "metadata": {},
   "outputs": [
    {
     "name": "stdout",
     "output_type": "stream",
     "text": [
      "Amount of found weights: 55\n"
     ]
    }
   ],
   "source": [
    "model = model = BertFinetuneModel(\n",
    "    hidden_size=256, \n",
    "    vocab_size=tokenizer.vocab_size,\n",
    "    max_seqlen=MAXLEN+2,\n",
    "    num_hidden_layers=4,\n",
    "    intermediate_size=1024,\n",
    "    num_attention_heads=4,\n",
    "    num_classes=96,\n",
    "    act_func='gelu',\n",
    "    input_dropout_prob=0.1,\n",
    "    hidden_dropout_prob=0.1, \n",
    "    attention_probs_dropout_prob=0.1,\n",
    "    eps=1e-3, \n",
    ").to(device)\n",
    "\n",
    "found = load_weights(model, 'pretrained_weights.pt')\n",
    "print('Amount of found weights: {}'.format(len(found)))"
   ]
  },
  {
   "cell_type": "code",
   "execution_count": 92,
   "metadata": {},
   "outputs": [],
   "source": [
    "optimizer = get_optimizer(model, weight_decay=1e-2)\n",
    "n_epochs = 1\n",
    "\n",
    "scheduler = Scheduler(\n",
    "    optimizer=optimizer, \n",
    "    init_lr=5e-6, \n",
    "    peak_lr=4e-5, \n",
    "    final_lr=1e-9, \n",
    "    num_warmup_steps=int(len(dl)*0.05), \n",
    "    num_training_steps=len(dl)*n_epochs\n",
    ")"
   ]
  },
  {
   "cell_type": "code",
   "execution_count": 93,
   "metadata": {},
   "outputs": [],
   "source": [
    "device = torch.device('cuda')\n",
    "\n",
    "trainer = FinetuneTrainer(\n",
    "    model=model, \n",
    "    optimizer=optimizer, \n",
    "    scheduler=scheduler,\n",
    "    pad_token_id=tokenizer.pad_token_id,\n",
    "    device=device,\n",
    "    logdir=f\"logs_ft/fine-tune {n_epochs} epochs\",\n",
    "    max_grad_norm=1.,\n",
    ")"
   ]
  },
  {
   "cell_type": "code",
   "execution_count": 94,
   "metadata": {},
   "outputs": [
    {
     "data": {
      "text/plain": [
       "('f1', 0.0018818747300944601)"
      ]
     },
     "execution_count": 94,
     "metadata": {},
     "output_type": "execute_result"
    }
   ],
   "source": [
    "val_scorer(trainer)"
   ]
  },
  {
   "cell_type": "code",
   "execution_count": 95,
   "metadata": {},
   "outputs": [
    {
     "name": "stderr",
     "output_type": "stream",
     "text": [
      "602it [00:04, 144.29it/s]\n"
     ]
    },
    {
     "data": {
      "text/plain": [
       "('f1', 0.561665532006793)"
      ]
     },
     "execution_count": 95,
     "metadata": {},
     "output_type": "execute_result"
    }
   ],
   "source": [
    "trainer.train(dataloaders, n_epochs=n_epochs, scorer=val_scorer)\n",
    "test_scorer = make_scorer(test['text'].values, test['label'].values, tokenizer, maxlen=30)\n",
    "\n",
    "test_scorer(trainer)"
   ]
  },
  {
   "cell_type": "markdown",
   "metadata": {},
   "source": [
    "### Инициализация претрейном, файн-тюн 10 эпох"
   ]
  },
  {
   "cell_type": "code",
   "execution_count": 96,
   "metadata": {},
   "outputs": [
    {
     "name": "stdout",
     "output_type": "stream",
     "text": [
      "Amount of found weights: 55\n"
     ]
    }
   ],
   "source": [
    "model = model = BertFinetuneModel(\n",
    "    hidden_size=256, \n",
    "    vocab_size=tokenizer.vocab_size,\n",
    "    max_seqlen=MAXLEN+2,\n",
    "    num_hidden_layers=4,\n",
    "    intermediate_size=1024,\n",
    "    num_attention_heads=4,\n",
    "    num_classes=96,\n",
    "    act_func='gelu',\n",
    "    input_dropout_prob=0.1,\n",
    "    hidden_dropout_prob=0.1, \n",
    "    attention_probs_dropout_prob=0.1,\n",
    "    eps=1e-3, \n",
    ").to(device)\n",
    "\n",
    "found = load_weights(model, 'pretrained_weights.pt')\n",
    "print('Amount of found weights: {}'.format(len(found)))"
   ]
  },
  {
   "cell_type": "code",
   "execution_count": 97,
   "metadata": {},
   "outputs": [],
   "source": [
    "optimizer = get_optimizer(model, weight_decay=1e-2)\n",
    "n_epochs = 10\n",
    "\n",
    "scheduler = Scheduler(\n",
    "    optimizer=optimizer, \n",
    "    init_lr=5e-6, \n",
    "    peak_lr=4e-5, \n",
    "    final_lr=1e-9, \n",
    "    num_warmup_steps=int(len(dl)*0.05), \n",
    "    num_training_steps=len(dl)*n_epochs\n",
    ")"
   ]
  },
  {
   "cell_type": "code",
   "execution_count": 98,
   "metadata": {},
   "outputs": [],
   "source": [
    "device = torch.device('cuda')\n",
    "\n",
    "trainer = FinetuneTrainer(\n",
    "    model=model, \n",
    "    optimizer=optimizer, \n",
    "    scheduler=scheduler,\n",
    "    pad_token_id=tokenizer.pad_token_id,\n",
    "    device=device,\n",
    "    logdir=f\"logs_ft/fine-tune {n_epochs} epochs\",\n",
    "    max_grad_norm=1.,\n",
    ")"
   ]
  },
  {
   "cell_type": "markdown",
   "metadata": {},
   "source": [
    "Скор на валидационной выборке до обучения:"
   ]
  },
  {
   "cell_type": "code",
   "execution_count": 99,
   "metadata": {},
   "outputs": [
    {
     "data": {
      "text/plain": [
       "('f1', 0.013726065922180659)"
      ]
     },
     "execution_count": 99,
     "metadata": {},
     "output_type": "execute_result"
    }
   ],
   "source": [
    "val_scorer(trainer)"
   ]
  },
  {
   "cell_type": "code",
   "execution_count": 100,
   "metadata": {
    "scrolled": true
   },
   "outputs": [
    {
     "name": "stderr",
     "output_type": "stream",
     "text": [
      "602it [00:04, 140.96it/s]\n",
      "602it [00:04, 144.14it/s]\n",
      "602it [00:04, 142.85it/s]\n",
      "602it [00:04, 148.26it/s]\n",
      "602it [00:04, 144.69it/s]\n",
      "602it [00:04, 146.86it/s]\n",
      "602it [00:04, 144.57it/s]\n",
      "602it [00:04, 144.74it/s]\n",
      "602it [00:04, 145.33it/s]\n",
      "602it [00:04, 142.69it/s]\n"
     ]
    }
   ],
   "source": [
    "trainer.train(dataloaders, n_epochs=n_epochs, scorer=val_scorer)"
   ]
  },
  {
   "cell_type": "markdown",
   "metadata": {},
   "source": [
    "Одним из критериев получения полного балла за задание является получение на тесте значения метрики $\\geqslant 0.7$. Скор на тестовой выборке:"
   ]
  },
  {
   "cell_type": "code",
   "execution_count": 101,
   "metadata": {},
   "outputs": [
    {
     "data": {
      "text/plain": [
       "('f1', 0.8103909052489793)"
      ]
     },
     "execution_count": 101,
     "metadata": {},
     "output_type": "execute_result"
    }
   ],
   "source": [
    "test_scorer = make_scorer(test['text'].values, test['label'].values, tokenizer, maxlen=30)\n",
    "\n",
    "test_scorer(trainer)"
   ]
  },
  {
   "cell_type": "markdown",
   "metadata": {},
   "source": [
    "Не забудьте также приложить вместе со сделанным заданием тензорборд дообучения."
   ]
  },
  {
   "cell_type": "markdown",
   "metadata": {},
   "source": [
    "### Инициализация претрейном, файн-тюн 50 эпох"
   ]
  },
  {
   "cell_type": "code",
   "execution_count": 106,
   "metadata": {},
   "outputs": [
    {
     "name": "stdout",
     "output_type": "stream",
     "text": [
      "Amount of found weights: 55\n"
     ]
    }
   ],
   "source": [
    "model = model = BertFinetuneModel(\n",
    "    hidden_size=256, \n",
    "    vocab_size=tokenizer.vocab_size,\n",
    "    max_seqlen=MAXLEN+2,\n",
    "    num_hidden_layers=4,\n",
    "    intermediate_size=1024,\n",
    "    num_attention_heads=4,\n",
    "    num_classes=96,\n",
    "    act_func='gelu',\n",
    "    input_dropout_prob=0.1,\n",
    "    hidden_dropout_prob=0.1, \n",
    "    attention_probs_dropout_prob=0.1,\n",
    "    eps=1e-3, \n",
    ").to(device)\n",
    "\n",
    "found = load_weights(model, 'pretrained_weights.pt')\n",
    "print('Amount of found weights: {}'.format(len(found)))"
   ]
  },
  {
   "cell_type": "code",
   "execution_count": 107,
   "metadata": {},
   "outputs": [],
   "source": [
    "optimizer = get_optimizer(model, weight_decay=1e-2)\n",
    "n_epochs = 50\n",
    "\n",
    "scheduler = Scheduler(\n",
    "    optimizer=optimizer, \n",
    "    init_lr=5e-6, \n",
    "    peak_lr=4e-5, \n",
    "    final_lr=1e-9, \n",
    "    num_warmup_steps=int(len(dl)*0.05), \n",
    "    num_training_steps=len(dl)*n_epochs\n",
    ")"
   ]
  },
  {
   "cell_type": "code",
   "execution_count": 108,
   "metadata": {},
   "outputs": [],
   "source": [
    "device = torch.device('cuda')\n",
    "\n",
    "trainer = FinetuneTrainer(\n",
    "    model=model, \n",
    "    optimizer=optimizer, \n",
    "    scheduler=scheduler,\n",
    "    pad_token_id=tokenizer.pad_token_id,\n",
    "    device=device,\n",
    "    logdir=f\"logs_ft/fine-tune {n_epochs} epochs\",\n",
    "    max_grad_norm=1.,\n",
    ")"
   ]
  },
  {
   "cell_type": "code",
   "execution_count": 109,
   "metadata": {
    "scrolled": true
   },
   "outputs": [
    {
     "name": "stderr",
     "output_type": "stream",
     "text": [
      "602it [00:05, 110.95it/s]\n",
      "602it [00:09, 66.08it/s] \n",
      "602it [00:06, 86.29it/s] \n",
      "602it [00:04, 142.09it/s]\n",
      "602it [00:04, 144.48it/s]\n",
      "602it [00:04, 144.98it/s]\n",
      "602it [00:04, 145.63it/s]\n",
      "602it [00:04, 147.58it/s]\n",
      "602it [00:04, 144.76it/s]\n",
      "602it [00:04, 144.67it/s]\n",
      "602it [00:04, 145.42it/s]\n",
      "602it [00:04, 142.88it/s]\n",
      "602it [00:04, 144.13it/s]\n",
      "602it [00:04, 143.69it/s]\n",
      "602it [00:04, 143.58it/s]\n",
      "602it [00:04, 144.22it/s]\n",
      "602it [00:04, 142.87it/s]\n",
      "602it [00:04, 144.85it/s]\n",
      "602it [00:04, 146.20it/s]\n",
      "602it [00:04, 147.13it/s]\n",
      "602it [00:04, 132.76it/s]\n",
      "602it [00:04, 147.45it/s]\n",
      "602it [00:04, 146.20it/s]\n",
      "602it [00:04, 141.90it/s]\n",
      "602it [00:04, 137.93it/s]\n",
      "602it [00:04, 145.87it/s]\n",
      "602it [00:04, 146.25it/s]\n",
      "602it [00:04, 146.15it/s]\n",
      "602it [00:04, 145.75it/s]\n",
      "602it [00:04, 145.72it/s]\n",
      "602it [00:04, 142.06it/s]\n",
      "602it [00:04, 146.54it/s]\n",
      "602it [00:04, 144.99it/s]\n",
      "602it [00:04, 147.39it/s]\n",
      "602it [00:04, 149.22it/s]\n",
      "602it [00:04, 146.34it/s]\n",
      "602it [00:04, 144.44it/s]\n",
      "602it [00:04, 144.39it/s]\n",
      "602it [00:04, 145.92it/s]\n",
      "602it [00:04, 143.96it/s]\n",
      "602it [00:04, 143.23it/s]\n",
      "602it [00:04, 144.06it/s]\n"
     ]
    }
   ],
   "source": [
    "trainer.train(dataloaders, n_epochs=n_epochs, scorer=val_scorer)"
   ]
  },
  {
   "cell_type": "code",
   "execution_count": 111,
   "metadata": {},
   "outputs": [
    {
     "data": {
      "text/plain": [
       "('f1', 0.8113025475747502)"
      ]
     },
     "execution_count": 111,
     "metadata": {},
     "output_type": "execute_result"
    }
   ],
   "source": [
    "test_scorer = make_scorer(test['text'].values, test['label'].values, tokenizer, maxlen=30)\n",
    "\n",
    "test_scorer(trainer)"
   ]
  },
  {
   "cell_type": "markdown",
   "metadata": {},
   "source": [
    "### Инициализация фром скретч, обучаем 10 эпох"
   ]
  },
  {
   "cell_type": "code",
   "execution_count": 112,
   "metadata": {
    "scrolled": true
   },
   "outputs": [
    {
     "data": {
      "text/plain": [
       "BertFinetuneModel(\n",
       "  (_backbone): Bert(\n",
       "    (_embeddings): BertEmbeddings(\n",
       "      (_token_embeddings): Embedding(30000, 256)\n",
       "      (position_embeddings): Embedding(32, 256)\n",
       "      (sentence_embeddings): Embedding(2, 256)\n",
       "      (layer_norm): LayerNorm((256,), eps=0.001, elementwise_affine=True)\n",
       "      (dropout): Dropout(p=0.1, inplace=False)\n",
       "    )\n",
       "    (encoder_layers): ModuleList(\n",
       "      (0-3): 4 x BertLayer(\n",
       "        (_multihead_attention): MultiHeadSelfAttention(\n",
       "          (qkv): Linear(in_features=256, out_features=768, bias=True)\n",
       "          (attn_dropout): Dropout(p=0.1, inplace=False)\n",
       "          (o_proj): Linear(in_features=256, out_features=256, bias=True)\n",
       "          (out_dropout): Dropout(p=0.1, inplace=False)\n",
       "          (layer_norm): LayerNorm((256,), eps=0.001, elementwise_affine=True)\n",
       "        )\n",
       "        (_feedforward): FeedForward(\n",
       "          (mlp): Sequential(\n",
       "            (0): Linear(in_features=256, out_features=1024, bias=True)\n",
       "            (1): GELU(approximate='none')\n",
       "            (2): Linear(in_features=1024, out_features=256, bias=True)\n",
       "            (3): Dropout(p=0.1, inplace=False)\n",
       "          )\n",
       "          (layer_norm): LayerNorm((256,), eps=0.001, elementwise_affine=True)\n",
       "        )\n",
       "      )\n",
       "    )\n",
       "  )\n",
       "  (_classifier_head): ClassifierHead(\n",
       "    (mlp): Sequential(\n",
       "      (0): Linear(in_features=256, out_features=256, bias=True)\n",
       "      (1): Tanh()\n",
       "      (2): Dropout(p=0.1, inplace=False)\n",
       "      (3): Linear(in_features=256, out_features=96, bias=True)\n",
       "    )\n",
       "  )\n",
       ")"
      ]
     },
     "execution_count": 112,
     "metadata": {},
     "output_type": "execute_result"
    }
   ],
   "source": [
    "model = BertFinetuneModel(\n",
    "    hidden_size=256, \n",
    "    vocab_size=tokenizer.vocab_size,\n",
    "    max_seqlen=MAXLEN+2,\n",
    "    num_hidden_layers=4,\n",
    "    intermediate_size=1024,\n",
    "    num_attention_heads=4,\n",
    "    num_classes=96,\n",
    "    act_func='gelu',\n",
    "    input_dropout_prob=0.1,\n",
    "    hidden_dropout_prob=0.1, \n",
    "    attention_probs_dropout_prob=0.1,\n",
    "    eps=1e-3, \n",
    ").to(device)\n",
    "model.apply(init_layer)"
   ]
  },
  {
   "cell_type": "code",
   "execution_count": 113,
   "metadata": {},
   "outputs": [],
   "source": [
    "optimizer = get_optimizer(model, weight_decay=1e-2)\n",
    "n_epochs = 10\n",
    "\n",
    "scheduler = Scheduler(\n",
    "    optimizer=optimizer, \n",
    "    init_lr=1e-6, \n",
    "    peak_lr=2e-5, \n",
    "    final_lr=1e-9, \n",
    "    num_warmup_steps=int(len(dl)*0.05), \n",
    "    num_training_steps=len(dl)*n_epochs\n",
    ")"
   ]
  },
  {
   "cell_type": "code",
   "execution_count": 114,
   "metadata": {},
   "outputs": [],
   "source": [
    "device = torch.device('cuda')\n",
    "\n",
    "trainer = FinetuneTrainer(\n",
    "    model=model, \n",
    "    optimizer=optimizer, \n",
    "    scheduler=scheduler,\n",
    "    pad_token_id=tokenizer.pad_token_id,\n",
    "    device=device,\n",
    "    logdir=f\"logs_ft/from scratch {n_epochs} epochs\",\n",
    "    max_grad_norm=1.,\n",
    ")"
   ]
  },
  {
   "cell_type": "code",
   "execution_count": 115,
   "metadata": {},
   "outputs": [
    {
     "name": "stderr",
     "output_type": "stream",
     "text": [
      "602it [00:11, 51.19it/s] \n",
      "602it [00:04, 130.89it/s]\n",
      "602it [00:04, 122.61it/s]\n",
      "602it [00:05, 114.62it/s]\n",
      "602it [00:05, 100.45it/s]\n",
      "602it [00:11, 53.56it/s] \n",
      "602it [00:10, 56.88it/s] \n",
      "602it [00:08, 68.57it/s] \n",
      "602it [00:12, 48.80it/s] \n",
      "602it [00:04, 142.21it/s]\n"
     ]
    }
   ],
   "source": [
    "trainer.train(dataloaders, n_epochs=n_epochs, scorer=val_scorer)"
   ]
  },
  {
   "cell_type": "code",
   "execution_count": 116,
   "metadata": {},
   "outputs": [
    {
     "data": {
      "text/plain": [
       "('f1', 0.6279356422833497)"
      ]
     },
     "execution_count": 116,
     "metadata": {},
     "output_type": "execute_result"
    }
   ],
   "source": [
    "test_scorer = make_scorer(test['text'].values, test['label'].values, tokenizer, maxlen=30)\n",
    "\n",
    "test_scorer(trainer)"
   ]
  },
  {
   "cell_type": "markdown",
   "metadata": {},
   "source": [
    "### Инициализация фром скретч, обучаем 50 эпох"
   ]
  },
  {
   "cell_type": "code",
   "execution_count": 117,
   "metadata": {
    "scrolled": true
   },
   "outputs": [
    {
     "data": {
      "text/plain": [
       "BertFinetuneModel(\n",
       "  (_backbone): Bert(\n",
       "    (_embeddings): BertEmbeddings(\n",
       "      (_token_embeddings): Embedding(30000, 256)\n",
       "      (position_embeddings): Embedding(32, 256)\n",
       "      (sentence_embeddings): Embedding(2, 256)\n",
       "      (layer_norm): LayerNorm((256,), eps=0.001, elementwise_affine=True)\n",
       "      (dropout): Dropout(p=0.1, inplace=False)\n",
       "    )\n",
       "    (encoder_layers): ModuleList(\n",
       "      (0-3): 4 x BertLayer(\n",
       "        (_multihead_attention): MultiHeadSelfAttention(\n",
       "          (qkv): Linear(in_features=256, out_features=768, bias=True)\n",
       "          (attn_dropout): Dropout(p=0.1, inplace=False)\n",
       "          (o_proj): Linear(in_features=256, out_features=256, bias=True)\n",
       "          (out_dropout): Dropout(p=0.1, inplace=False)\n",
       "          (layer_norm): LayerNorm((256,), eps=0.001, elementwise_affine=True)\n",
       "        )\n",
       "        (_feedforward): FeedForward(\n",
       "          (mlp): Sequential(\n",
       "            (0): Linear(in_features=256, out_features=1024, bias=True)\n",
       "            (1): GELU(approximate='none')\n",
       "            (2): Linear(in_features=1024, out_features=256, bias=True)\n",
       "            (3): Dropout(p=0.1, inplace=False)\n",
       "          )\n",
       "          (layer_norm): LayerNorm((256,), eps=0.001, elementwise_affine=True)\n",
       "        )\n",
       "      )\n",
       "    )\n",
       "  )\n",
       "  (_classifier_head): ClassifierHead(\n",
       "    (mlp): Sequential(\n",
       "      (0): Linear(in_features=256, out_features=256, bias=True)\n",
       "      (1): Tanh()\n",
       "      (2): Dropout(p=0.1, inplace=False)\n",
       "      (3): Linear(in_features=256, out_features=96, bias=True)\n",
       "    )\n",
       "  )\n",
       ")"
      ]
     },
     "execution_count": 117,
     "metadata": {},
     "output_type": "execute_result"
    }
   ],
   "source": [
    "model = BertFinetuneModel(\n",
    "    hidden_size=256, \n",
    "    vocab_size=tokenizer.vocab_size,\n",
    "    max_seqlen=MAXLEN+2,\n",
    "    num_hidden_layers=4,\n",
    "    intermediate_size=1024,\n",
    "    num_attention_heads=4,\n",
    "    num_classes=96,\n",
    "    act_func='gelu',\n",
    "    input_dropout_prob=0.1,\n",
    "    hidden_dropout_prob=0.1, \n",
    "    attention_probs_dropout_prob=0.1,\n",
    "    eps=1e-3, \n",
    ").to(device)\n",
    "model.apply(init_layer)"
   ]
  },
  {
   "cell_type": "code",
   "execution_count": 118,
   "metadata": {},
   "outputs": [],
   "source": [
    "optimizer = get_optimizer(model, weight_decay=1e-2)\n",
    "n_epochs = 50\n",
    "\n",
    "scheduler = Scheduler(\n",
    "    optimizer=optimizer, \n",
    "    init_lr=1e-6, \n",
    "    peak_lr=2e-5, \n",
    "    final_lr=1e-9, \n",
    "    num_warmup_steps=int(len(dl)*0.05), \n",
    "    num_training_steps=len(dl)*n_epochs\n",
    ")"
   ]
  },
  {
   "cell_type": "code",
   "execution_count": 119,
   "metadata": {},
   "outputs": [],
   "source": [
    "device = torch.device('cuda')\n",
    "\n",
    "trainer = FinetuneTrainer(\n",
    "    model=model, \n",
    "    optimizer=optimizer, \n",
    "    scheduler=scheduler,\n",
    "    pad_token_id=tokenizer.pad_token_id,\n",
    "    device=device,\n",
    "    logdir=f\"logs_ft/from scratch {n_epochs} epochs\",\n",
    "    max_grad_norm=1.,\n",
    ")"
   ]
  },
  {
   "cell_type": "code",
   "execution_count": 120,
   "metadata": {
    "scrolled": true
   },
   "outputs": [
    {
     "name": "stderr",
     "output_type": "stream",
     "text": [
      "602it [00:04, 141.92it/s]\n",
      "602it [00:04, 139.78it/s]\n",
      "602it [00:04, 138.46it/s]\n",
      "602it [00:04, 137.50it/s]\n",
      "602it [00:04, 140.14it/s]\n",
      "602it [00:04, 140.92it/s]\n",
      "602it [00:04, 137.28it/s]\n",
      "602it [00:04, 141.43it/s]\n",
      "602it [00:04, 140.52it/s]\n",
      "602it [00:04, 141.09it/s]\n",
      "602it [00:04, 139.53it/s]\n",
      "602it [00:04, 137.26it/s]\n",
      "602it [00:04, 136.95it/s]\n",
      "602it [00:04, 141.75it/s]\n",
      "602it [00:04, 135.46it/s]\n",
      "602it [00:04, 138.36it/s]\n",
      "602it [00:04, 138.72it/s]\n",
      "602it [00:04, 139.64it/s]\n",
      "602it [00:04, 142.06it/s]\n",
      "602it [00:04, 141.49it/s]\n",
      "602it [00:04, 140.86it/s]\n",
      "602it [00:04, 144.73it/s]\n",
      "602it [00:04, 139.40it/s]\n",
      "602it [00:04, 143.47it/s]\n",
      "602it [00:04, 141.83it/s]\n",
      "602it [00:04, 140.90it/s]\n",
      "602it [00:04, 140.40it/s]\n",
      "602it [00:04, 139.44it/s]\n",
      "602it [00:04, 139.30it/s]\n",
      "602it [00:04, 140.31it/s]\n",
      "602it [00:04, 143.84it/s]\n",
      "602it [00:04, 144.85it/s]\n",
      "602it [00:05, 119.00it/s]\n",
      "602it [00:04, 143.20it/s]\n",
      "602it [00:04, 144.01it/s]\n",
      "602it [00:04, 145.13it/s]\n",
      "602it [00:04, 145.16it/s]\n",
      "602it [00:04, 144.23it/s]\n",
      "602it [00:04, 144.87it/s]\n",
      "602it [00:04, 144.35it/s]\n",
      "602it [00:04, 143.93it/s]\n",
      "602it [00:04, 135.93it/s]\n",
      "602it [00:04, 145.89it/s]\n",
      "602it [00:04, 145.17it/s]\n",
      "602it [00:04, 145.56it/s]\n",
      "602it [00:04, 145.76it/s]\n",
      "602it [00:04, 144.24it/s]\n",
      "602it [00:04, 144.05it/s]\n",
      "602it [00:04, 145.35it/s]\n",
      "602it [00:04, 145.08it/s]\n"
     ]
    }
   ],
   "source": [
    "trainer.train(dataloaders, n_epochs=n_epochs, scorer=val_scorer)"
   ]
  },
  {
   "cell_type": "code",
   "execution_count": 121,
   "metadata": {},
   "outputs": [
    {
     "data": {
      "text/plain": [
       "('f1', 0.7439281384793099)"
      ]
     },
     "execution_count": 121,
     "metadata": {},
     "output_type": "execute_result"
    }
   ],
   "source": [
    "test_scorer = make_scorer(test['text'].values, test['label'].values, tokenizer, maxlen=30)\n",
    "\n",
    "test_scorer(trainer)"
   ]
  },
  {
   "cell_type": "markdown",
   "metadata": {},
   "source": [
    "**Вопросы:**\n",
    "1. Попробуйте также обучить модель без предобученных весов (просто закомментировав загрузку весов). Насколько сильно просело качество?\n",
    "2. Влияет ли длительность предобучения (количество эпох) как-то существенно на дообучение, или достаточно одной эпохи?\n",
    "\n",
    "**Ваши ответы напишите здесь:**\n",
    "1. Как можно заметить на 10 эпохах сильная просадка по метрике, почти 0.2. Если обучать 50 эпох, то тоже наблюдается просадка, около 0.07. На 10 эпохах такая огрмная просадка из-за того, что предобученная модель уже имеет \"хорошие веса\" и ей нужно гораздо меньше эпох, чтобы выйти в оптимум. Чего не скажешь об обучении с нуля. Хотя на 50 эпохах судя по графикам модель выходит на плато, но результаты хуже. Отсюда можно сделать вывод, что предобучение довольно важная штука.\n",
    "2. Влияет. За 1 эпоху модель не успела сойтись. По графикам видно, что на плато она выходит как раз примерно на 10 эпохе. Далее обучение ничего не улучшает, на 50 эпохах она даже немного переобучилась."
   ]
  },
  {
   "cell_type": "markdown",
   "metadata": {},
   "source": [
    "## Бонусная часть. Большие модели (максимум 3 балла)\n",
    "\n",
    "Предлагается обучить модель побольше:\n",
    "* `hidden_size` $\\in \\{512, 768, 1024\\}$\n",
    "* `num_hidden_layers` $\\in \\{8, 12, 24\\}$\n",
    "\n",
    "Например, BERT-base архитектура выглядит как `hidden_size=768, num_hidden_layers=12`.\n",
    "\n",
    "Для большой модели придется также использовать другие гиперпараметры - нужен learning rate поменьше, weight decay побольше, дропаут больше. Возможно потребуется больше эпох предобучения.\n",
    "\n",
    "За выполнение этой части можно получить **до пяти бонусных баллов**, бонус зависит от полученных на тесте значений метрики (должно быть видно существенное улучшение)."
   ]
  }
 ],
 "metadata": {
  "kernelspec": {
   "display_name": "Python [conda env:.mlspace-kurtsev_sft_pipeline]",
   "language": "python",
   "name": "conda-env-.mlspace-kurtsev_sft_pipeline-py"
  },
  "language_info": {
   "codemirror_mode": {
    "name": "ipython",
    "version": 3
   },
   "file_extension": ".py",
   "mimetype": "text/x-python",
   "name": "python",
   "nbconvert_exporter": "python",
   "pygments_lexer": "ipython3",
   "version": "3.11.9"
  }
 },
 "nbformat": 4,
 "nbformat_minor": 4
}
